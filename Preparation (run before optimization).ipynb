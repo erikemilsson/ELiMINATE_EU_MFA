{
 "cells": [
  {
   "cell_type": "markdown",
   "metadata": {},
   "source": [
    "# Preparation (run before optimization)\n",
    "\n",
    "This file creates the S2F2D.csv file which contains all input data for the optimization. It only needs to be run once for the optimization.\n",
    "\n",
    "## Table of Contents\n",
    "\n",
    "1. Preparation\n",
    "2. Generate a grid over Europe for all candidate positions of facilities and save in Facilities.xlsx\n",
    "3. Create the Distance Matrix for Supply-to-Facility points and Facility-to-Demand points\n",
    "* 3a) Supply to Facility (Supply = origin, Facility = destination)\n",
    "* 3b) Facility to Demand (Facility = origin, Demand = destination)\n",
    "* 3c) Create the S2F2D dataframe for the optimization\n",
    "* 3d) Merge S2F2D with the Fixed cost\n",
    "* 3e) Calculate Transport Costs and add to S2F2D\n",
    "\n",
    "## 1. Preparation\n",
    "\n",
    "### Import libraries (install if necessary)"
   ]
  },
  {
   "cell_type": "code",
   "execution_count": 1,
   "metadata": {},
   "outputs": [],
   "source": [
    "# (uncomment install lines if necessary)\n",
    "#import kaleido\n",
    "#kaleido.__version__ #0.2.1\n",
    "import numpy as np\n",
    "import pandas as pd\n",
    "import json\n",
    "import geopandas as gpd\n",
    "#import folium\n",
    "import plotly.express as px\n",
    "#import plotly.graph_objects as go\n",
    "import requests\n",
    "from global_land_mask import globe # python -m pip install global_land_mask\n",
    "import time\n",
    "import constantsfile # constantsfile.py"
   ]
  },
  {
   "cell_type": "markdown",
   "metadata": {},
   "source": [
    "### Load in the Supply and Demand points from Excel files"
   ]
  },
  {
   "cell_type": "code",
   "execution_count": 2,
   "metadata": {},
   "outputs": [],
   "source": [
    "df_demand = pd.read_excel(\"Demand.xlsx\", usecols=[\"Name\", \n",
    "                                                  \"Country\",\n",
    "                                                  \"Latitude\",\n",
    "                                                  \"Longitude\",\n",
    "                                                  \"Tonnes\"])\n",
    "df_supply = pd.read_excel(\"Supply.xlsx\", usecols=[\"Name\",\n",
    "                                                  \"Country\",\n",
    "                                                  \"Latitude\",\n",
    "                                                  \"Longitude\",\n",
    "                                                  \"Tonnes\"])"
   ]
  },
  {
   "cell_type": "markdown",
   "metadata": {},
   "source": [
    "## 2. Generate a grid over Europe for all candidate positions of facilities and save in Facilities.xlsx"
   ]
  },
  {
   "cell_type": "code",
   "execution_count": 3,
   "metadata": {},
   "outputs": [
    {
     "name": "stdout",
     "output_type": "stream",
     "text": [
      "Starting grid generation over Europe (lat: 36.0-71.0, lon: -11.0-40.0)\n",
      "Grid spacing: 1 degree(s)\n",
      "Testing API key: a656859f6f...\n",
      "Progress: Checked 100 land points, found 99 facilities so far...\n",
      "Progress: Checked 200 land points, found 199 facilities so far...\n",
      "Progress: Checked 300 land points, found 299 facilities so far...\n",
      "Progress: Checked 400 land points, found 399 facilities so far...\n",
      "Progress: Checked 500 land points, found 499 facilities so far...\n",
      "Progress: Checked 600 land points, found 599 facilities so far...\n",
      "Progress: Checked 700 land points, found 699 facilities so far...\n",
      "Progress: Checked 800 land points, found 799 facilities so far...\n",
      "Progress: Checked 900 land points, found 899 facilities so far...\n",
      "Progress: Checked 1000 land points, found 999 facilities so far...\n",
      "\n",
      "============================================================\n",
      "Grid Generation Complete!\n",
      "  Land points checked: 1039\n",
      "  API calls made: 1039\n",
      "  API errors: 0\n",
      "  Generated 1039 candidate facility locations across Europe\n",
      "============================================================\n",
      "\n",
      "✅ Saved 1039 facilities to Facilities.xlsx\n"
     ]
    }
   ],
   "source": [
    "# Generate the grid coordinates\n",
    "grid = []\n",
    "api_calls_made = 0\n",
    "api_errors = 0\n",
    "land_points_checked = 0\n",
    "\n",
    "print(f\"Starting grid generation over Europe (lat: {constantsfile.min_lat}-{constantsfile.max_lat}, lon: {constantsfile.min_lon}-{constantsfile.max_lon})\")\n",
    "print(f\"Grid spacing: {constantsfile.grid_spacing} degree(s)\")\n",
    "print(f\"Testing API key: {constantsfile.api_key_opencage[:10]}...\")\n",
    "\n",
    "for lat in range(int(constantsfile.min_lat), int(constantsfile.max_lat) + 1):\n",
    "    for lon in range(int(constantsfile.min_lon), int(constantsfile.max_lon) + 1):\n",
    "        for i in range(int(constantsfile.grid_spacing)):\n",
    "            for j in range(int(constantsfile.grid_spacing)):\n",
    "                point_lat = lat + i / constantsfile.grid_spacing\n",
    "                point_lon = lon + j / constantsfile.grid_spacing\n",
    "                \n",
    "                # Check if THIS specific point is on land (not just the integer corner)\n",
    "                if globe.is_land(point_lat, point_lon):\n",
    "                    land_points_checked += 1\n",
    "                    \n",
    "                    # Show progress every 100 land points\n",
    "                    if land_points_checked % 100 == 0:\n",
    "                        print(f\"Progress: Checked {land_points_checked} land points, found {len(grid)} facilities so far...\")\n",
    "                    \n",
    "                    try:\n",
    "                        params = { \n",
    "                            'key': constantsfile.api_key_opencage,\n",
    "                            'q': f\"{point_lat},{point_lon}\",\n",
    "                            'no_annotations': 1\n",
    "                        }\n",
    "                        response = requests.get(constantsfile.base_url_opencage, params=params)\n",
    "                        api_calls_made += 1\n",
    "                        \n",
    "                        if response.status_code == 200:\n",
    "                            data = response.json()\n",
    "                            if 'results' in data and len(data['results']) > 0:\n",
    "                                country = data['results'][0]['components'].get('country', '')\n",
    "                                if country:\n",
    "                                    grid.append((point_lat, point_lon, country))\n",
    "                            else:\n",
    "                                if land_points_checked <= 5:  # Show first few errors for debugging\n",
    "                                    print(f\"  ⚠️  No results for ({point_lat}, {point_lon}): {data.get('status', {}).get('message', 'Unknown')}\")\n",
    "                        else:\n",
    "                            api_errors += 1\n",
    "                            if api_errors <= 3:  # Show first few errors\n",
    "                                print(f\"  ❌ API Error {response.status_code} at ({point_lat}, {point_lon}): {response.text[:100]}\")\n",
    "                    \n",
    "                    except Exception as e:\n",
    "                        api_errors += 1\n",
    "                        if api_errors <= 3:\n",
    "                            print(f\"  ❌ Exception at ({point_lat}, {point_lon}): {str(e)[:100]}\")\n",
    "\n",
    "print(\"\\n\" + \"=\"*60)\n",
    "print(f\"Grid Generation Complete!\")\n",
    "print(f\"  Land points checked: {land_points_checked}\")\n",
    "print(f\"  API calls made: {api_calls_made}\")\n",
    "print(f\"  API errors: {api_errors}\")\n",
    "print(f\"  Generated {len(grid)} candidate facility locations across Europe\")\n",
    "print(\"=\"*60 + \"\\n\")\n",
    "\n",
    "# Create a DataFrame with the grid coordinates and country information\n",
    "df_facilities = pd.DataFrame(grid, columns=['Latitude', \n",
    "                                            'Longitude',\n",
    "                                            'Country'])\n",
    "\n",
    "# Reorder the columns\n",
    "df_facilities = df_facilities[['Country',\n",
    "                               'Latitude', \n",
    "                               'Longitude']].reset_index()\n",
    "\n",
    "# Rename the 'index' column\n",
    "df_facilities = df_facilities.rename(columns={'index': 'Name'})\n",
    "\n",
    "# Replace name of countries so they match the Fixed Cost df\n",
    "df_facilities['Country'] = df_facilities['Country'].replace('Czechia','Czech Republic')\n",
    "\n",
    "# Add a prefix \"N\" to the Facility name number\n",
    "df_facilities['Name'] = 'N' + df_facilities['Name'].astype(str)\n",
    "\n",
    "# Save the DataFrame to an Excel file\n",
    "df_facilities.to_excel('Facilities.xlsx', index=True)\n",
    "print(f\"✅ Saved {len(df_facilities)} facilities to Facilities.xlsx\")"
   ]
  },
  {
   "cell_type": "code",
   "execution_count": 4,
   "metadata": {},
   "outputs": [
    {
     "name": "stderr",
     "output_type": "stream",
     "text": [
      "/var/folders/v9/8bc7pbt1065_rr6rpcswcw_40000gn/T/ipykernel_83987/2970495210.py:3: DeprecationWarning: *scatter_mapbox* is deprecated! Use *scatter_map* instead. Learn more at: https://plotly.com/python/mapbox-to-maplibre/\n",
      "  fig = px.scatter_mapbox(df_facilities,\n"
     ]
    },
    {
     "data": {
      "application/vnd.plotly.v1+json": {
       "config": {
        "plotlyServerURL": "https://plot.ly"
       },
       "data": [
        {
         "hovertemplate": "<b>%{hovertext}</b><br><br>Latitude=%{lat}<br>Longitude=%{lon}<extra></extra>",
         "hovertext": [
          "N0",
          "N1",
          "N2",
          "N3",
          "N4",
          "N5",
          "N6",
          "N7",
          "N8",
          "N9",
          "N10",
          "N11",
          "N12",
          "N13",
          "N14",
          "N15",
          "N16",
          "N17",
          "N18",
          "N19",
          "N20",
          "N21",
          "N22",
          "N23",
          "N24",
          "N25",
          "N26",
          "N27",
          "N28",
          "N29",
          "N30",
          "N31",
          "N32",
          "N33",
          "N34",
          "N35",
          "N36",
          "N37",
          "N38",
          "N39",
          "N40",
          "N41",
          "N42",
          "N43",
          "N44",
          "N45",
          "N46",
          "N47",
          "N48",
          "N49",
          "N50",
          "N51",
          "N52",
          "N53",
          "N54",
          "N55",
          "N56",
          "N57",
          "N58",
          "N59",
          "N60",
          "N61",
          "N62",
          "N63",
          "N64",
          "N65",
          "N66",
          "N67",
          "N68",
          "N69",
          "N70",
          "N71",
          "N72",
          "N73",
          "N74",
          "N75",
          "N76",
          "N77",
          "N78",
          "N79",
          "N80",
          "N81",
          "N82",
          "N83",
          "N84",
          "N85",
          "N86",
          "N87",
          "N88",
          "N89",
          "N90",
          "N91",
          "N92",
          "N93",
          "N94",
          "N95",
          "N96",
          "N97",
          "N98",
          "N99",
          "N100",
          "N101",
          "N102",
          "N103",
          "N104",
          "N105",
          "N106",
          "N107",
          "N108",
          "N109",
          "N110",
          "N111",
          "N112",
          "N113",
          "N114",
          "N115",
          "N116",
          "N117",
          "N118",
          "N119",
          "N120",
          "N121",
          "N122",
          "N123",
          "N124",
          "N125",
          "N126",
          "N127",
          "N128",
          "N129",
          "N130",
          "N131",
          "N132",
          "N133",
          "N134",
          "N135",
          "N136",
          "N137",
          "N138",
          "N139",
          "N140",
          "N141",
          "N142",
          "N143",
          "N144",
          "N145",
          "N146",
          "N147",
          "N148",
          "N149",
          "N150",
          "N151",
          "N152",
          "N153",
          "N154",
          "N155",
          "N156",
          "N157",
          "N158",
          "N159",
          "N160",
          "N161",
          "N162",
          "N163",
          "N164",
          "N165",
          "N166",
          "N167",
          "N168",
          "N169",
          "N170",
          "N171",
          "N172",
          "N173",
          "N174",
          "N175",
          "N176",
          "N177",
          "N178",
          "N179",
          "N180",
          "N181",
          "N182",
          "N183",
          "N184",
          "N185",
          "N186",
          "N187",
          "N188",
          "N189",
          "N190",
          "N191",
          "N192",
          "N193",
          "N194",
          "N195",
          "N196",
          "N197",
          "N198",
          "N199",
          "N200",
          "N201",
          "N202",
          "N203",
          "N204",
          "N205",
          "N206",
          "N207",
          "N208",
          "N209",
          "N210",
          "N211",
          "N212",
          "N213",
          "N214",
          "N215",
          "N216",
          "N217",
          "N218",
          "N219",
          "N220",
          "N221",
          "N222",
          "N223",
          "N224",
          "N225",
          "N226",
          "N227",
          "N228",
          "N229",
          "N230",
          "N231",
          "N232",
          "N233",
          "N234",
          "N235",
          "N236",
          "N237",
          "N238",
          "N239",
          "N240",
          "N241",
          "N242",
          "N243",
          "N244",
          "N245",
          "N246",
          "N247",
          "N248",
          "N249",
          "N250",
          "N251",
          "N252",
          "N253",
          "N254",
          "N255",
          "N256",
          "N257",
          "N258",
          "N259",
          "N260",
          "N261",
          "N262",
          "N263",
          "N264",
          "N265",
          "N266",
          "N267",
          "N268",
          "N269",
          "N270",
          "N271",
          "N272",
          "N273",
          "N274",
          "N275",
          "N276",
          "N277",
          "N278",
          "N279",
          "N280",
          "N281",
          "N282",
          "N283",
          "N284",
          "N285",
          "N286",
          "N287",
          "N288",
          "N289",
          "N290",
          "N291",
          "N292",
          "N293",
          "N294",
          "N295",
          "N296",
          "N297",
          "N298",
          "N299",
          "N300",
          "N301",
          "N302",
          "N303",
          "N304",
          "N305",
          "N306",
          "N307",
          "N308",
          "N309",
          "N310",
          "N311",
          "N312",
          "N313",
          "N314",
          "N315",
          "N316",
          "N317",
          "N318",
          "N319",
          "N320",
          "N321",
          "N322",
          "N323",
          "N324",
          "N325",
          "N326",
          "N327",
          "N328",
          "N329",
          "N330",
          "N331",
          "N332",
          "N333",
          "N334",
          "N335",
          "N336",
          "N337",
          "N338",
          "N339",
          "N340",
          "N341",
          "N342",
          "N343",
          "N344",
          "N345",
          "N346",
          "N347",
          "N348",
          "N349",
          "N350",
          "N351",
          "N352",
          "N353",
          "N354",
          "N355",
          "N356",
          "N357",
          "N358",
          "N359",
          "N360",
          "N361",
          "N362",
          "N363",
          "N364",
          "N365",
          "N366",
          "N367",
          "N368",
          "N369",
          "N370",
          "N371",
          "N372",
          "N373",
          "N374",
          "N375",
          "N376",
          "N377",
          "N378",
          "N379",
          "N380",
          "N381",
          "N382",
          "N383",
          "N384",
          "N385",
          "N386",
          "N387",
          "N388",
          "N389",
          "N390",
          "N391",
          "N392",
          "N393",
          "N394",
          "N395",
          "N396",
          "N397",
          "N398",
          "N399",
          "N400",
          "N401",
          "N402",
          "N403",
          "N404",
          "N405",
          "N406",
          "N407",
          "N408",
          "N409",
          "N410",
          "N411",
          "N412",
          "N413",
          "N414",
          "N415",
          "N416",
          "N417",
          "N418",
          "N419",
          "N420",
          "N421",
          "N422",
          "N423",
          "N424",
          "N425",
          "N426",
          "N427",
          "N428",
          "N429",
          "N430",
          "N431",
          "N432",
          "N433",
          "N434",
          "N435",
          "N436",
          "N437",
          "N438",
          "N439",
          "N440",
          "N441",
          "N442",
          "N443",
          "N444",
          "N445",
          "N446",
          "N447",
          "N448",
          "N449",
          "N450",
          "N451",
          "N452",
          "N453",
          "N454",
          "N455",
          "N456",
          "N457",
          "N458",
          "N459",
          "N460",
          "N461",
          "N462",
          "N463",
          "N464",
          "N465",
          "N466",
          "N467",
          "N468",
          "N469",
          "N470",
          "N471",
          "N472",
          "N473",
          "N474",
          "N475",
          "N476",
          "N477",
          "N478",
          "N479",
          "N480",
          "N481",
          "N482",
          "N483",
          "N484",
          "N485",
          "N486",
          "N487",
          "N488",
          "N489",
          "N490",
          "N491",
          "N492",
          "N493",
          "N494",
          "N495",
          "N496",
          "N497",
          "N498",
          "N499",
          "N500",
          "N501",
          "N502",
          "N503",
          "N504",
          "N505",
          "N506",
          "N507",
          "N508",
          "N509",
          "N510",
          "N511",
          "N512",
          "N513",
          "N514",
          "N515",
          "N516",
          "N517",
          "N518",
          "N519",
          "N520",
          "N521",
          "N522",
          "N523",
          "N524",
          "N525",
          "N526",
          "N527",
          "N528",
          "N529",
          "N530",
          "N531",
          "N532",
          "N533",
          "N534",
          "N535",
          "N536",
          "N537",
          "N538",
          "N539",
          "N540",
          "N541",
          "N542",
          "N543",
          "N544",
          "N545",
          "N546",
          "N547",
          "N548",
          "N549",
          "N550",
          "N551",
          "N552",
          "N553",
          "N554",
          "N555",
          "N556",
          "N557",
          "N558",
          "N559",
          "N560",
          "N561",
          "N562",
          "N563",
          "N564",
          "N565",
          "N566",
          "N567",
          "N568",
          "N569",
          "N570",
          "N571",
          "N572",
          "N573",
          "N574",
          "N575",
          "N576",
          "N577",
          "N578",
          "N579",
          "N580",
          "N581",
          "N582",
          "N583",
          "N584",
          "N585",
          "N586",
          "N587",
          "N588",
          "N589",
          "N590",
          "N591",
          "N592",
          "N593",
          "N594",
          "N595",
          "N596",
          "N597",
          "N598",
          "N599",
          "N600",
          "N601",
          "N602",
          "N603",
          "N604",
          "N605",
          "N606",
          "N607",
          "N608",
          "N609",
          "N610",
          "N611",
          "N612",
          "N613",
          "N614",
          "N615",
          "N616",
          "N617",
          "N618",
          "N619",
          "N620",
          "N621",
          "N622",
          "N623",
          "N624",
          "N625",
          "N626",
          "N627",
          "N628",
          "N629",
          "N630",
          "N631",
          "N632",
          "N633",
          "N634",
          "N635",
          "N636",
          "N637",
          "N638",
          "N639",
          "N640",
          "N641",
          "N642",
          "N643",
          "N644",
          "N645",
          "N646",
          "N647",
          "N648",
          "N649",
          "N650",
          "N651",
          "N652",
          "N653",
          "N654",
          "N655",
          "N656",
          "N657",
          "N658",
          "N659",
          "N660",
          "N661",
          "N662",
          "N663",
          "N664",
          "N665",
          "N666",
          "N667",
          "N668",
          "N669",
          "N670",
          "N671",
          "N672",
          "N673",
          "N674",
          "N675",
          "N676",
          "N677",
          "N678",
          "N679",
          "N680",
          "N681",
          "N682",
          "N683",
          "N684",
          "N685",
          "N686",
          "N687",
          "N688",
          "N689",
          "N690",
          "N691",
          "N692",
          "N693",
          "N694",
          "N695",
          "N696",
          "N697",
          "N698",
          "N699",
          "N700",
          "N701",
          "N702",
          "N703",
          "N704",
          "N705",
          "N706",
          "N707",
          "N708",
          "N709",
          "N710",
          "N711",
          "N712",
          "N713",
          "N714",
          "N715",
          "N716",
          "N717",
          "N718",
          "N719",
          "N720",
          "N721",
          "N722",
          "N723",
          "N724",
          "N725",
          "N726",
          "N727",
          "N728",
          "N729",
          "N730",
          "N731",
          "N732",
          "N733",
          "N734",
          "N735",
          "N736",
          "N737",
          "N738",
          "N739",
          "N740",
          "N741",
          "N742",
          "N743",
          "N744",
          "N745",
          "N746",
          "N747",
          "N748",
          "N749",
          "N750",
          "N751",
          "N752",
          "N753",
          "N754",
          "N755",
          "N756",
          "N757",
          "N758",
          "N759",
          "N760",
          "N761",
          "N762",
          "N763",
          "N764",
          "N765",
          "N766",
          "N767",
          "N768",
          "N769",
          "N770",
          "N771",
          "N772",
          "N773",
          "N774",
          "N775",
          "N776",
          "N777",
          "N778",
          "N779",
          "N780",
          "N781",
          "N782",
          "N783",
          "N784",
          "N785",
          "N786",
          "N787",
          "N788",
          "N789",
          "N790",
          "N791",
          "N792",
          "N793",
          "N794",
          "N795",
          "N796",
          "N797",
          "N798",
          "N799",
          "N800",
          "N801",
          "N802",
          "N803",
          "N804",
          "N805",
          "N806",
          "N807",
          "N808",
          "N809",
          "N810",
          "N811",
          "N812",
          "N813",
          "N814",
          "N815",
          "N816",
          "N817",
          "N818",
          "N819",
          "N820",
          "N821",
          "N822",
          "N823",
          "N824",
          "N825",
          "N826",
          "N827",
          "N828",
          "N829",
          "N830",
          "N831",
          "N832",
          "N833",
          "N834",
          "N835",
          "N836",
          "N837",
          "N838",
          "N839",
          "N840",
          "N841",
          "N842",
          "N843",
          "N844",
          "N845",
          "N846",
          "N847",
          "N848",
          "N849",
          "N850",
          "N851",
          "N852",
          "N853",
          "N854",
          "N855",
          "N856",
          "N857",
          "N858",
          "N859",
          "N860",
          "N861",
          "N862",
          "N863",
          "N864",
          "N865",
          "N866",
          "N867",
          "N868",
          "N869",
          "N870",
          "N871",
          "N872",
          "N873",
          "N874",
          "N875",
          "N876",
          "N877",
          "N878",
          "N879",
          "N880",
          "N881",
          "N882",
          "N883",
          "N884",
          "N885",
          "N886",
          "N887",
          "N888",
          "N889",
          "N890",
          "N891",
          "N892",
          "N893",
          "N894",
          "N895",
          "N896",
          "N897",
          "N898",
          "N899",
          "N900",
          "N901",
          "N902",
          "N903",
          "N904",
          "N905",
          "N906",
          "N907",
          "N908",
          "N909",
          "N910",
          "N911",
          "N912",
          "N913",
          "N914",
          "N915",
          "N916",
          "N917",
          "N918",
          "N919",
          "N920",
          "N921",
          "N922",
          "N923",
          "N924",
          "N925",
          "N926",
          "N927",
          "N928",
          "N929",
          "N930",
          "N931",
          "N932",
          "N933",
          "N934",
          "N935",
          "N936",
          "N937",
          "N938",
          "N939",
          "N940",
          "N941",
          "N942",
          "N943",
          "N944",
          "N945",
          "N946",
          "N947",
          "N948",
          "N949",
          "N950",
          "N951",
          "N952",
          "N953",
          "N954",
          "N955",
          "N956",
          "N957",
          "N958",
          "N959",
          "N960",
          "N961",
          "N962",
          "N963",
          "N964",
          "N965",
          "N966",
          "N967",
          "N968",
          "N969",
          "N970",
          "N971",
          "N972",
          "N973",
          "N974",
          "N975",
          "N976",
          "N977",
          "N978",
          "N979",
          "N980",
          "N981",
          "N982",
          "N983",
          "N984",
          "N985",
          "N986",
          "N987",
          "N988",
          "N989",
          "N990",
          "N991",
          "N992",
          "N993",
          "N994",
          "N995",
          "N996",
          "N997",
          "N998",
          "N999",
          "N1000",
          "N1001",
          "N1002",
          "N1003",
          "N1004",
          "N1005",
          "N1006",
          "N1007",
          "N1008",
          "N1009",
          "N1010",
          "N1011",
          "N1012",
          "N1013",
          "N1014",
          "N1015",
          "N1016",
          "N1017",
          "N1018",
          "N1019",
          "N1020",
          "N1021",
          "N1022",
          "N1023",
          "N1024",
          "N1025",
          "N1026",
          "N1027",
          "N1028",
          "N1029",
          "N1030",
          "N1031",
          "N1032",
          "N1033",
          "N1034",
          "N1035",
          "N1036",
          "N1037",
          "N1038"
         ],
         "lat": {
          "bdata": "JCQkJCQkJCQkJCQkJCQkJSUlJSUlJSUlJSUlJSUlJSUlJSUlJSUlJiYmJiYmJiYmJiYmJiYmJiYmJiYmJiYmJiYmJicnJycnJycnJycnJycnJycnJycnJycnJycnJygoKCgoKCgoKCgoKCgoKCgoKCgoKCgoKCgoKCgoKCkpKSkpKSkpKSkpKSkpKSkpKSkpKSkpKSkpKSkpKSkqKioqKioqKioqKioqKioqKioqKioqKioqKisrKysrKysrKysrKysrKysrKysrKysrKysrLCwsLCwsLCwsLCwsLCwsLCwsLCwsLCwsLCwtLS0tLS0tLS0tLS0tLS0tLS0tLS0tLS0tLS0tLS0tLS0tLS4uLi4uLi4uLi4uLi4uLi4uLi4uLi4uLi4uLi4uLi4uLi4uLi8vLy8vLy8vLy8vLy8vLy8vLy8vLy8vLy8vLy8vLy8vLy8vLy8vLy8vMDAwMDAwMDAwMDAwMDAwMDAwMDAwMDAwMDAwMDAwMDAwMDAwMDAwMDAwMDAwMTExMTExMTExMTExMTExMTExMTExMTExMTExMTExMTExMTExMTExMTExMjIyMjIyMjIyMjIyMjIyMjIyMjIyMjIyMjIyMjIyMjIyMjIyMjIyMzMzMzMzMzMzMzMzMzMzMzMzMzMzMzMzMzMzMzMzMzMzMzMzMzMzMzMzMzQ0NDQ0NDQ0NDQ0NDQ0NDQ0NDQ0NDQ0NDQ0NDQ0NDQ0NDQ0NDQ0NDQ0NDQ0NDQ1NTU1NTU1NTU1NTU1NTU1NTU1NTU1NTU1NTU1NTU1NTU1NTU1NTU1NTU1NjY2NjY2NjY2NjY2NjY2NjY2NjY2NjY2NjY2NjY2NjY2NjY2Nzc3Nzc3Nzc3Nzc3Nzc3Nzc3Nzc3Nzc3Nzc3Nzc4ODg4ODg4ODg4ODg4ODg4ODg4ODg4ODg4ODk5OTk5OTk5OTk5OTk5OTk5OTk5OTk5OTk5OTk6Ojo6Ojo6Ojo6Ojo6Ojo6Ojo6Ojo6Ojo7Ozs7Ozs7Ozs7Ozs7Ozs7Ozs7Ozs7Ozs7Ozs8PDw8PDw8PDw8PDw8PDw8PDw8PDw8PD09PT09PT09PT09PT09PT09PT09PT09PT09PT09PT09Pj4+Pj4+Pj4+Pj4+Pj4+Pj4+Pj4+Pj4+Pj4+Pj4+Pj4+Pz8/Pz8/Pz8/Pz8/Pz8/Pz8/Pz8/Pz8/Pz8/Pz9AQEBAQEBAQEBAQEBAQEBAQEBAQEBAQEBAQUFBQUFBQUFBQUFBQUFBQUFBQUFCQkJCQkJCQkJCQkJCQkJCQkJCQkJCQ0NDQ0NDQ0NDQ0NDQ0NDQ0NDQ0NDQ0NDQ0NERERERERERERERERERERERERERERERERERUVFRUVFRUVFRUVFRUVFRUVFRUZGRkZGRkZGR0dHRw==",
          "dtype": "i1"
         },
         "legendgroup": "",
         "lon": {
          "bdata": "AQIDBAUGBwgJCiQlJico+Pr7/P3+CQoLDxcbHR4fICEiIyQlJico+Pn6+/z9/v8NDg8QFhcYHB0eHyAhIiMkJSYnKPf4+fr7/P3+/wkRFhcbHB0eHyAhIiMkJSYnKPj5+vv8/f7/AAQJEBQVFhgbHB0eHyAhIiMkJSYnKPj5+vv8/f7/AAkODxARFBUWFxgZGhseHyAhIiMkJSf4+fr7/P3+/wABAgMJDA0OFBUWFxgZGhscI/f4+fr7/P3+/wABAgMLDA0SExQVFhcYGRob/wABAgMEBQYHCAsMEBESExQVFhcYGRobHCj/AAECAwQFBgcICQoLDA4PEBESExQVFhcYGRobHB0iIyYnKP8AAQIDBAUGBwgJCgsMDQ4PEBESExQVFhcYGRobHB0eIiYnKP7/AAECAwQFBgcICQoLDA0ODxAREhMUFRYXGBkaGxwdHh8gISIjJCUo/P3+/wABAgMEBQYHCAkKCwwNDg8QERITFBUWFxgZGhscHR4fICEiIyQlJico/wABAgMEBQYHCAkKCwwNDg8QERITFBUWFxgZGhscHR4fICEiIyQlJicoAgMEBQYHCAkKCwwNDg8QERITFBUWFxgZGhscHR4fICEiIyQlJico/P3+/wADBAUGBwgJCgsMDQ4PEBESExQVFhcYGRobHB0eHyAhIiMkJSYnKPb3+Pv8/f7/AAEFBgcICQoLDA0ODxAREhMUFRYXGBkaGxwdHh8gISIjJCUmJyj3+Pn8/f7/AAYHCAkKCwwNDg8QERITFBUWFxgZGhscHR4fICEiIyQlJico9vf4+f7/CQoMDQ8QERITFBUWFxgZGhscHR4fICEiIyQlJico+Pn6+/z9/gkMDxYXGBkaGxwdHh8gISIjJCUmJyj7/AkKDA0OFhcYGRobHB0eHyAhIiMkJSYnKPv8/QkKDQ4PEBYXGBkaGxwdHh8gISIjJCUmJyj5+/wMDQ4PEBkaGxwdHh8gISIjJCUmJygHCAkKDA0ODxARGBkaGxwdHh8gISIjJCUmJygGBwgJCgsMDQ4PEBESHyAhIiMkJSYnKAUGBwgJCgsMDQ4PEBEWFxgZGhscHR4fICEiIyQlJico+QUGBwgJCgsMDQ4PEBEWFxgZGhscHR4fICEiIyQlJicoCQoLDA0ODxAREhYXGBkaGxwdHh8gISIjJCUmJygLDA0ODxAREhMUGBkaGxwdHh8gISIjJCcoDA0ODxAREhMUFRobHB0eHyAhIiUNDg8QERITFBUWFxgZGhscHR4fICEiDxAREhMUFRYXGBkaGxwdHh8gISIjJCUmJygNEBESExQVFhcYGRobHB0eHyAhIiMkJSYnEhMUFRYXGBkaGxwdHh8gISIjJBMXGBkaGxwdGBkaHA==",
          "dtype": "i1"
         },
         "marker": {
          "color": "#636efa",
          "opacity": 0.8,
          "size": 10
         },
         "mode": "markers",
         "name": "",
         "showlegend": false,
         "subplot": "mapbox",
         "type": "scattermapbox"
        }
       ],
       "layout": {
        "height": 600,
        "legend": {
         "tracegroupgap": 0
        },
        "mapbox": {
         "accesstoken": "pk.eyJ1IjoiZXJpa2VtaWxzc29uaXZsIiwiYSI6ImNsaW9ndmt5MzBmcmMzcHBjaDAwNG9lZTAifQ.v2B76LSmMgJT29Gi5IwJiw",
         "center": {
          "lat": 56,
          "lon": 15
         },
         "domain": {
          "x": [
           0,
           1
          ],
          "y": [
           0,
           1
          ]
         },
         "style": "light",
         "zoom": 2.3
        },
        "margin": {
         "t": 60
        },
        "template": {
         "data": {
          "bar": [
           {
            "error_x": {
             "color": "#2a3f5f"
            },
            "error_y": {
             "color": "#2a3f5f"
            },
            "marker": {
             "line": {
              "color": "#E5ECF6",
              "width": 0.5
             },
             "pattern": {
              "fillmode": "overlay",
              "size": 10,
              "solidity": 0.2
             }
            },
            "type": "bar"
           }
          ],
          "barpolar": [
           {
            "marker": {
             "line": {
              "color": "#E5ECF6",
              "width": 0.5
             },
             "pattern": {
              "fillmode": "overlay",
              "size": 10,
              "solidity": 0.2
             }
            },
            "type": "barpolar"
           }
          ],
          "carpet": [
           {
            "aaxis": {
             "endlinecolor": "#2a3f5f",
             "gridcolor": "white",
             "linecolor": "white",
             "minorgridcolor": "white",
             "startlinecolor": "#2a3f5f"
            },
            "baxis": {
             "endlinecolor": "#2a3f5f",
             "gridcolor": "white",
             "linecolor": "white",
             "minorgridcolor": "white",
             "startlinecolor": "#2a3f5f"
            },
            "type": "carpet"
           }
          ],
          "choropleth": [
           {
            "colorbar": {
             "outlinewidth": 0,
             "ticks": ""
            },
            "type": "choropleth"
           }
          ],
          "contour": [
           {
            "colorbar": {
             "outlinewidth": 0,
             "ticks": ""
            },
            "colorscale": [
             [
              0,
              "#0d0887"
             ],
             [
              0.1111111111111111,
              "#46039f"
             ],
             [
              0.2222222222222222,
              "#7201a8"
             ],
             [
              0.3333333333333333,
              "#9c179e"
             ],
             [
              0.4444444444444444,
              "#bd3786"
             ],
             [
              0.5555555555555556,
              "#d8576b"
             ],
             [
              0.6666666666666666,
              "#ed7953"
             ],
             [
              0.7777777777777778,
              "#fb9f3a"
             ],
             [
              0.8888888888888888,
              "#fdca26"
             ],
             [
              1,
              "#f0f921"
             ]
            ],
            "type": "contour"
           }
          ],
          "contourcarpet": [
           {
            "colorbar": {
             "outlinewidth": 0,
             "ticks": ""
            },
            "type": "contourcarpet"
           }
          ],
          "heatmap": [
           {
            "colorbar": {
             "outlinewidth": 0,
             "ticks": ""
            },
            "colorscale": [
             [
              0,
              "#0d0887"
             ],
             [
              0.1111111111111111,
              "#46039f"
             ],
             [
              0.2222222222222222,
              "#7201a8"
             ],
             [
              0.3333333333333333,
              "#9c179e"
             ],
             [
              0.4444444444444444,
              "#bd3786"
             ],
             [
              0.5555555555555556,
              "#d8576b"
             ],
             [
              0.6666666666666666,
              "#ed7953"
             ],
             [
              0.7777777777777778,
              "#fb9f3a"
             ],
             [
              0.8888888888888888,
              "#fdca26"
             ],
             [
              1,
              "#f0f921"
             ]
            ],
            "type": "heatmap"
           }
          ],
          "histogram": [
           {
            "marker": {
             "pattern": {
              "fillmode": "overlay",
              "size": 10,
              "solidity": 0.2
             }
            },
            "type": "histogram"
           }
          ],
          "histogram2d": [
           {
            "colorbar": {
             "outlinewidth": 0,
             "ticks": ""
            },
            "colorscale": [
             [
              0,
              "#0d0887"
             ],
             [
              0.1111111111111111,
              "#46039f"
             ],
             [
              0.2222222222222222,
              "#7201a8"
             ],
             [
              0.3333333333333333,
              "#9c179e"
             ],
             [
              0.4444444444444444,
              "#bd3786"
             ],
             [
              0.5555555555555556,
              "#d8576b"
             ],
             [
              0.6666666666666666,
              "#ed7953"
             ],
             [
              0.7777777777777778,
              "#fb9f3a"
             ],
             [
              0.8888888888888888,
              "#fdca26"
             ],
             [
              1,
              "#f0f921"
             ]
            ],
            "type": "histogram2d"
           }
          ],
          "histogram2dcontour": [
           {
            "colorbar": {
             "outlinewidth": 0,
             "ticks": ""
            },
            "colorscale": [
             [
              0,
              "#0d0887"
             ],
             [
              0.1111111111111111,
              "#46039f"
             ],
             [
              0.2222222222222222,
              "#7201a8"
             ],
             [
              0.3333333333333333,
              "#9c179e"
             ],
             [
              0.4444444444444444,
              "#bd3786"
             ],
             [
              0.5555555555555556,
              "#d8576b"
             ],
             [
              0.6666666666666666,
              "#ed7953"
             ],
             [
              0.7777777777777778,
              "#fb9f3a"
             ],
             [
              0.8888888888888888,
              "#fdca26"
             ],
             [
              1,
              "#f0f921"
             ]
            ],
            "type": "histogram2dcontour"
           }
          ],
          "mesh3d": [
           {
            "colorbar": {
             "outlinewidth": 0,
             "ticks": ""
            },
            "type": "mesh3d"
           }
          ],
          "parcoords": [
           {
            "line": {
             "colorbar": {
              "outlinewidth": 0,
              "ticks": ""
             }
            },
            "type": "parcoords"
           }
          ],
          "pie": [
           {
            "automargin": true,
            "type": "pie"
           }
          ],
          "scatter": [
           {
            "fillpattern": {
             "fillmode": "overlay",
             "size": 10,
             "solidity": 0.2
            },
            "type": "scatter"
           }
          ],
          "scatter3d": [
           {
            "line": {
             "colorbar": {
              "outlinewidth": 0,
              "ticks": ""
             }
            },
            "marker": {
             "colorbar": {
              "outlinewidth": 0,
              "ticks": ""
             }
            },
            "type": "scatter3d"
           }
          ],
          "scattercarpet": [
           {
            "marker": {
             "colorbar": {
              "outlinewidth": 0,
              "ticks": ""
             }
            },
            "type": "scattercarpet"
           }
          ],
          "scattergeo": [
           {
            "marker": {
             "colorbar": {
              "outlinewidth": 0,
              "ticks": ""
             }
            },
            "type": "scattergeo"
           }
          ],
          "scattergl": [
           {
            "marker": {
             "colorbar": {
              "outlinewidth": 0,
              "ticks": ""
             }
            },
            "type": "scattergl"
           }
          ],
          "scattermap": [
           {
            "marker": {
             "colorbar": {
              "outlinewidth": 0,
              "ticks": ""
             }
            },
            "type": "scattermap"
           }
          ],
          "scattermapbox": [
           {
            "marker": {
             "colorbar": {
              "outlinewidth": 0,
              "ticks": ""
             }
            },
            "type": "scattermapbox"
           }
          ],
          "scatterpolar": [
           {
            "marker": {
             "colorbar": {
              "outlinewidth": 0,
              "ticks": ""
             }
            },
            "type": "scatterpolar"
           }
          ],
          "scatterpolargl": [
           {
            "marker": {
             "colorbar": {
              "outlinewidth": 0,
              "ticks": ""
             }
            },
            "type": "scatterpolargl"
           }
          ],
          "scatterternary": [
           {
            "marker": {
             "colorbar": {
              "outlinewidth": 0,
              "ticks": ""
             }
            },
            "type": "scatterternary"
           }
          ],
          "surface": [
           {
            "colorbar": {
             "outlinewidth": 0,
             "ticks": ""
            },
            "colorscale": [
             [
              0,
              "#0d0887"
             ],
             [
              0.1111111111111111,
              "#46039f"
             ],
             [
              0.2222222222222222,
              "#7201a8"
             ],
             [
              0.3333333333333333,
              "#9c179e"
             ],
             [
              0.4444444444444444,
              "#bd3786"
             ],
             [
              0.5555555555555556,
              "#d8576b"
             ],
             [
              0.6666666666666666,
              "#ed7953"
             ],
             [
              0.7777777777777778,
              "#fb9f3a"
             ],
             [
              0.8888888888888888,
              "#fdca26"
             ],
             [
              1,
              "#f0f921"
             ]
            ],
            "type": "surface"
           }
          ],
          "table": [
           {
            "cells": {
             "fill": {
              "color": "#EBF0F8"
             },
             "line": {
              "color": "white"
             }
            },
            "header": {
             "fill": {
              "color": "#C8D4E3"
             },
             "line": {
              "color": "white"
             }
            },
            "type": "table"
           }
          ]
         },
         "layout": {
          "annotationdefaults": {
           "arrowcolor": "#2a3f5f",
           "arrowhead": 0,
           "arrowwidth": 1
          },
          "autotypenumbers": "strict",
          "coloraxis": {
           "colorbar": {
            "outlinewidth": 0,
            "ticks": ""
           }
          },
          "colorscale": {
           "diverging": [
            [
             0,
             "#8e0152"
            ],
            [
             0.1,
             "#c51b7d"
            ],
            [
             0.2,
             "#de77ae"
            ],
            [
             0.3,
             "#f1b6da"
            ],
            [
             0.4,
             "#fde0ef"
            ],
            [
             0.5,
             "#f7f7f7"
            ],
            [
             0.6,
             "#e6f5d0"
            ],
            [
             0.7,
             "#b8e186"
            ],
            [
             0.8,
             "#7fbc41"
            ],
            [
             0.9,
             "#4d9221"
            ],
            [
             1,
             "#276419"
            ]
           ],
           "sequential": [
            [
             0,
             "#0d0887"
            ],
            [
             0.1111111111111111,
             "#46039f"
            ],
            [
             0.2222222222222222,
             "#7201a8"
            ],
            [
             0.3333333333333333,
             "#9c179e"
            ],
            [
             0.4444444444444444,
             "#bd3786"
            ],
            [
             0.5555555555555556,
             "#d8576b"
            ],
            [
             0.6666666666666666,
             "#ed7953"
            ],
            [
             0.7777777777777778,
             "#fb9f3a"
            ],
            [
             0.8888888888888888,
             "#fdca26"
            ],
            [
             1,
             "#f0f921"
            ]
           ],
           "sequentialminus": [
            [
             0,
             "#0d0887"
            ],
            [
             0.1111111111111111,
             "#46039f"
            ],
            [
             0.2222222222222222,
             "#7201a8"
            ],
            [
             0.3333333333333333,
             "#9c179e"
            ],
            [
             0.4444444444444444,
             "#bd3786"
            ],
            [
             0.5555555555555556,
             "#d8576b"
            ],
            [
             0.6666666666666666,
             "#ed7953"
            ],
            [
             0.7777777777777778,
             "#fb9f3a"
            ],
            [
             0.8888888888888888,
             "#fdca26"
            ],
            [
             1,
             "#f0f921"
            ]
           ]
          },
          "colorway": [
           "#636efa",
           "#EF553B",
           "#00cc96",
           "#ab63fa",
           "#FFA15A",
           "#19d3f3",
           "#FF6692",
           "#B6E880",
           "#FF97FF",
           "#FECB52"
          ],
          "font": {
           "color": "#2a3f5f"
          },
          "geo": {
           "bgcolor": "white",
           "lakecolor": "white",
           "landcolor": "#E5ECF6",
           "showlakes": true,
           "showland": true,
           "subunitcolor": "white"
          },
          "hoverlabel": {
           "align": "left"
          },
          "hovermode": "closest",
          "mapbox": {
           "style": "light"
          },
          "paper_bgcolor": "white",
          "plot_bgcolor": "#E5ECF6",
          "polar": {
           "angularaxis": {
            "gridcolor": "white",
            "linecolor": "white",
            "ticks": ""
           },
           "bgcolor": "#E5ECF6",
           "radialaxis": {
            "gridcolor": "white",
            "linecolor": "white",
            "ticks": ""
           }
          },
          "scene": {
           "xaxis": {
            "backgroundcolor": "#E5ECF6",
            "gridcolor": "white",
            "gridwidth": 2,
            "linecolor": "white",
            "showbackground": true,
            "ticks": "",
            "zerolinecolor": "white"
           },
           "yaxis": {
            "backgroundcolor": "#E5ECF6",
            "gridcolor": "white",
            "gridwidth": 2,
            "linecolor": "white",
            "showbackground": true,
            "ticks": "",
            "zerolinecolor": "white"
           },
           "zaxis": {
            "backgroundcolor": "#E5ECF6",
            "gridcolor": "white",
            "gridwidth": 2,
            "linecolor": "white",
            "showbackground": true,
            "ticks": "",
            "zerolinecolor": "white"
           }
          },
          "shapedefaults": {
           "line": {
            "color": "#2a3f5f"
           }
          },
          "ternary": {
           "aaxis": {
            "gridcolor": "white",
            "linecolor": "white",
            "ticks": ""
           },
           "baxis": {
            "gridcolor": "white",
            "linecolor": "white",
            "ticks": ""
           },
           "bgcolor": "#E5ECF6",
           "caxis": {
            "gridcolor": "white",
            "linecolor": "white",
            "ticks": ""
           }
          },
          "title": {
           "x": 0.05
          },
          "xaxis": {
           "automargin": true,
           "gridcolor": "white",
           "linecolor": "white",
           "ticks": "",
           "title": {
            "standoff": 15
           },
           "zerolinecolor": "white",
           "zerolinewidth": 2
          },
          "yaxis": {
           "automargin": true,
           "gridcolor": "white",
           "linecolor": "white",
           "ticks": "",
           "title": {
            "standoff": 15
           },
           "zerolinecolor": "white",
           "zerolinewidth": 2
          }
         }
        },
        "title": {
         "text": "Facilities Grid"
        },
        "width": 800
       }
      }
     },
     "metadata": {},
     "output_type": "display_data"
    }
   ],
   "source": [
    "df_facilities = pd.read_excel(\"Facilities.xlsx\", usecols=[\"Name\", \"Country\", \"Latitude\",\"Longitude\"])\n",
    "\n",
    "fig = px.scatter_mapbox(df_facilities,\n",
    "                        lat =\"Latitude\",lon=\"Longitude\",\n",
    "                        hover_name=\"Name\",\n",
    "                        zoom=2.3, center=dict(lon=15, lat=56),\n",
    "                        height=600, width=800,\n",
    "                        opacity=0.8,\n",
    "                        color_continuous_scale=px.colors.sequential.algae,\n",
    "                        )\n",
    "fig.update_layout(mapbox_style='light', mapbox_accesstoken=constantsfile.mapbox_access_token)\n",
    "fig.update_layout(title_text=\"Facilities Grid\")\n",
    "fig.update_traces(marker=dict(size=10))\n",
    "fig.show()\n",
    "#fig.write_image(\"Facility.png\", scale=1, engine='kaleido')"
   ]
  },
  {
   "cell_type": "markdown",
   "metadata": {},
   "source": [
    "## 3. Create the Distance Matrix for Supply-to-Facility points and Facility-to-Demand points\n",
    "\n",
    "### 3a) Supply to Facility (Supply = origin, Facility = destination)\n",
    "\n",
    "Chunk the Supply dataframe into 30-row sub-dataframes as a work-around to not exceed the openrouteservice maximums limits. Each chunk will be fed into the script in a loop."
   ]
  },
  {
   "cell_type": "code",
   "execution_count": 5,
   "metadata": {},
   "outputs": [],
   "source": [
    "#df_origins_full = supply (Actually reverse route in this case. 2030 is chosen as it includes all nodes.)\n",
    "df_origins_full = df_supply\n",
    "df_destinations_full = df_facilities\n",
    "\n",
    "# Function split_dataframe\n",
    "def split_dataframe(df, chunk_size):\n",
    "    num_chunks = len(df) // chunk_size\n",
    "    if len(df) % chunk_size != 0:\n",
    "        num_chunks += 1\n",
    "\n",
    "    dfs = []\n",
    "    for i in range(num_chunks):\n",
    "        start_idx = i * chunk_size\n",
    "        end_idx = (i + 1) * chunk_size\n",
    "        dfs.append(df[start_idx:end_idx].reset_index(drop=True))\n",
    "\n",
    "    return dfs\n",
    "\n",
    "# Chunk size 30\n",
    "df_destinations_full = split_dataframe(df_destinations_full, 30)"
   ]
  },
  {
   "cell_type": "markdown",
   "metadata": {},
   "source": [
    "Create a new pandas dataframe and combine name, country, and coordinate columns into a new column for identification to be possible after the API matrix run. Run the chunks throught the API in a loop and then combine them. Then create a file to save the result."
   ]
  },
  {
   "cell_type": "code",
   "execution_count": null,
   "metadata": {},
   "outputs": [],
   "source": [
    "# Loop over each chunk\n",
    "distances = []\n",
    "for j in range(len(df_destinations_full)):\n",
    "  df_destinations = df_destinations_full[j]\n",
    "  df_origins = df_origins_full\n",
    "\n",
    "  # Temporarily convert the latitude and longitude as strings to combine wth name and country\n",
    "  df_destinations['Latitude'] = df_destinations['Latitude'].astype(str)\n",
    "  df_destinations['Longitude'] = df_destinations['Longitude'].astype(str)\n",
    "  df_origins['Latitude'] = df_origins['Latitude'].astype(str)\n",
    "  df_origins['Longitude'] = df_origins['Longitude'].astype(str)\n",
    "  df_origins['Tonnes'] = df_origins['Tonnes'].astype(str)\n",
    "\n",
    "  # Combine name and country to feed in as the identifier of the coordinates for the API\n",
    "  df_destinations['name&country&coordinates'] = df_destinations['Name'] + ';' + df_destinations['Country'] + ';' + df_destinations['Latitude'] + ';' + df_destinations['Longitude']\n",
    "  df_origins['name&country&coordinates&tonnes'] = df_origins['Name'] + ';' + df_origins['Country'] + ';' + df_origins['Latitude'] + ';' + df_origins['Longitude'] + ';' + df_origins['Tonnes']\n",
    "\n",
    "  # Convert coordinate columns back to float\n",
    "  df_destinations['Latitude'] = df_destinations['Latitude'].astype(float)\n",
    "  df_destinations['Longitude'] = df_destinations['Longitude'].astype(float)\n",
    "  df_origins['Latitude'] = df_origins['Latitude'].astype(float)\n",
    "  df_origins['Longitude'] = df_origins['Longitude'].astype(float)\n",
    "\n",
    "  # Reorder and drop unecessary columns\n",
    "  df_destinations = df_destinations[['name&country&coordinates', \n",
    "                                     'Latitude', \n",
    "                                     'Longitude']]\n",
    "  df_origins = df_origins[['name&country&coordinates&tonnes',\n",
    "                           'Latitude', \n",
    "                           'Longitude']]\n",
    "\n",
    "  # Reset index\n",
    "  df_origins = df_origins.reset_index()\n",
    "  df_destinations = df_destinations.reset_index()\n",
    "\n",
    "  # Combine the origins and destination dataframes into one\n",
    "  df_locations = pd.concat([df_origins, df_destinations], ignore_index=True)\n",
    "\n",
    "  # Convert the df coordinates into API format\n",
    "  locations = []\n",
    "  for _, row in df_locations.iterrows():\n",
    "      locations.append([row['Longitude'], row['Latitude']])\n",
    "\n",
    "  # The origins and destinations in the API are expressed in terms of a list of\n",
    "  # the origins and destinations dataframes, so here they are converted to a list\n",
    "  origins = []\n",
    "  for _, row in df_origins.iterrows():\n",
    "      origins.append([row['Longitude'], row['Latitude']])\n",
    "  destinations = []\n",
    "  for _, row in df_destinations.iterrows():\n",
    "      destinations.append([row['Longitude'], row['Latitude']])\n",
    "\n",
    "  # Create a dictionary to represent the matrix parameters\n",
    "  body = {\n",
    "      'locations': locations,\n",
    "      'destinations': list(range(len(origins), len(origins) + len(destinations))),\n",
    "      'metrics': ['distance'],\n",
    "      'sources': list(range(len(origins))),\n",
    "      'units': 'km'\n",
    "  }\n",
    "\n",
    "  headers = {\n",
    "      'Accept': 'application/json, application/geo+json, application/gpx+xml, img/png; charset=utf-8',\n",
    "      'Authorization': constantsfile.api_key_openrouteservice,\n",
    "      'Content-Type': 'application/json; charset=utf-8'\n",
    "  }\n",
    "  call = requests.post(constantsfile.base_url_openrouteservice, json=body, headers=headers)\n",
    "  call_json = call.json()\n",
    "\n",
    "  for k, row in enumerate(call_json['distances']):\n",
    "    for l, distance in enumerate(row):\n",
    "        distances.append({\n",
    "            'origin': df_origins.loc[k, 'name&country&coordinates&tonnes'],\n",
    "            'destination': df_destinations.loc[l, 'name&country&coordinates'],\n",
    "            'distance_km': distance\n",
    "          })\n",
    "\n",
    "distance_df = pd.DataFrame(distances)\n",
    "\n",
    "# Write the DataFrame to Excel\n",
    "distance_df.to_excel('Supply_to_Facility_distances.xlsx', index=False)"
   ]
  },
  {
   "cell_type": "code",
   "execution_count": 7,
   "metadata": {},
   "outputs": [
    {
     "name": "stdout",
     "output_type": "stream",
     "text": [
      "Waiting for 60 seconds to make sure API doesn't get overloaded.\n",
      "60 seconds have passed, moving on to next part of the script.\n"
     ]
    }
   ],
   "source": [
    "print(\"Waiting for 60 seconds to make sure API doesn't get overloaded.\")\n",
    "time.sleep(60)\n",
    "print(\"60 seconds have passed, moving on to next part of the script.\")"
   ]
  },
  {
   "cell_type": "markdown",
   "metadata": {},
   "source": [
    "### 3b) Facility to Demand (Facility = origin, Demand = destination)\n",
    "\n",
    "Chunk the Supply dataframe into 30-row sub-dataframes as a work-around to not exceed the openrouteservice maximums limits. Each chunk will be fed into the script in a loop.\n"
   ]
  },
  {
   "cell_type": "code",
   "execution_count": 8,
   "metadata": {},
   "outputs": [],
   "source": [
    "df_origins_full = df_demand\n",
    "df_destinations_full = df_facilities\n",
    "\n",
    "# Function split_dataframe\n",
    "def split_dataframe(df, chunk_size):\n",
    "    num_chunks = len(df) // chunk_size\n",
    "    if len(df) % chunk_size != 0:\n",
    "        num_chunks += 1\n",
    "\n",
    "    dfs = []\n",
    "    for i in range(num_chunks):\n",
    "        start_idx = i * chunk_size\n",
    "        end_idx = (i + 1) * chunk_size\n",
    "        dfs.append(df[start_idx:end_idx].reset_index(drop=True))\n",
    "\n",
    "    return dfs\n",
    "\n",
    "# Chunk size 30\n",
    "df_destinations_full = split_dataframe(df_destinations_full, 30)"
   ]
  },
  {
   "cell_type": "markdown",
   "metadata": {},
   "source": [
    "Create a new pandas dataframe and combine name, country, and coordinate columns into a new column for identification to be possible after the API matrix run. Run the chunks throught the API in a loop and then combine them. Then create a file to save the result."
   ]
  },
  {
   "cell_type": "code",
   "execution_count": 9,
   "metadata": {},
   "outputs": [],
   "source": [
    "# Loop over each chunk\n",
    "distances = []\n",
    "for j in range(len(df_destinations_full)):\n",
    "  df_destinations = df_destinations_full[j]\n",
    "  df_origins = df_origins_full\n",
    "\n",
    "  # Temporarily convert the latitude, longitude, and volume as strings to combine with name and country\n",
    "  df_destinations['Latitude'] = df_destinations['Latitude'].astype(str)\n",
    "  df_destinations['Longitude'] = df_destinations['Longitude'].astype(str)\n",
    "  df_origins['Latitude'] = df_origins['Latitude'].astype(str)\n",
    "  df_origins['Longitude'] = df_origins['Longitude'].astype(str)\n",
    "  df_origins['Tonnes'] = df_origins['Tonnes'].astype(str)\n",
    "\n",
    "  # Combine name and country to feed in as the identifier of the coordinates for the API\n",
    "  df_destinations['name&country&coordinates'] = df_destinations['Name'] + ';' + df_destinations['Country'] + ';' + df_destinations['Latitude'] + ';' + df_destinations['Longitude']\n",
    "  df_origins['name&country&coordinates&tonnes'] = df_origins['Name'] + ';' + df_origins['Country'] + ';' + df_origins['Latitude'] + ';' + df_origins['Longitude'] + ';' + df_origins['Tonnes']\n",
    "\n",
    "  # Convert coordinate columns back to float for use in API\n",
    "  df_destinations['Latitude'] = df_destinations['Latitude'].astype(float)\n",
    "  df_destinations['Longitude'] = df_destinations['Longitude'].astype(float)\n",
    "  df_origins['Latitude'] = df_origins['Latitude'].astype(float)\n",
    "  df_origins['Longitude'] = df_origins['Longitude'].astype(float)\n",
    "\n",
    "  # Reorder and drop unecessary columns\n",
    "  df_destinations = df_destinations[['name&country&coordinates', \n",
    "                                     'Latitude', \n",
    "                                     'Longitude']]\n",
    "  df_origins = df_origins[['name&country&coordinates&tonnes', \n",
    "                           'Latitude', \n",
    "                           'Longitude']]\n",
    "\n",
    "  # Reset index\n",
    "  df_origins = df_origins.reset_index()\n",
    "  df_destinations = df_destinations.reset_index()\n",
    "\n",
    "  # Combine the origins and destination dataframes into one\n",
    "  df_locations = pd.concat([df_origins, df_destinations], ignore_index=True)\n",
    "\n",
    "  # Convert the df coordinates into API format\n",
    "  locations = []\n",
    "  for _, row in df_locations.iterrows():\n",
    "      locations.append([row['Longitude'], row['Latitude']])\n",
    "\n",
    "  # The origins and destinations in the API are expressed in terms of a list of\n",
    "  # the origins and destinations dataframes, so here they are converted to a list\n",
    "  origins = []\n",
    "  for _, row in df_origins.iterrows():\n",
    "      origins.append([row['Longitude'], row['Latitude']])\n",
    "  destinations = []\n",
    "  for _, row in df_destinations.iterrows():\n",
    "      destinations.append([row['Longitude'], row['Latitude']])\n",
    "\n",
    "  # Create a dictionary to represent the matrix parameters\n",
    "  body = {\n",
    "      'locations': locations,\n",
    "      'destinations': list(range(len(origins), len(origins) + len(destinations))),\n",
    "      'metrics': ['distance'],\n",
    "      'sources': list(range(len(origins))),\n",
    "      'units': 'km'\n",
    "  }\n",
    "\n",
    "  headers = {\n",
    "      'Accept': 'application/json, application/geo+json, application/gpx+xml, img/png; charset=utf-8',\n",
    "      'Authorization': constantsfile.api_key_openrouteservice,\n",
    "      'Content-Type': 'application/json; charset=utf-8'\n",
    "  }\n",
    "  call = requests.post(constantsfile.base_url_openrouteservice, json=body, headers=headers)\n",
    "  call_json = call.json()\n",
    "\n",
    "  for k, row in enumerate(call_json['distances']):\n",
    "    for l, distance in enumerate(row):\n",
    "        distances.append({\n",
    "            'origin': df_origins.loc[k, 'name&country&coordinates&tonnes'],\n",
    "            'destination': df_destinations.loc[l, 'name&country&coordinates'],\n",
    "            'distance_km': distance\n",
    "          })\n",
    "\n",
    "\n",
    "distance_df = pd.DataFrame(distances)\n",
    "\n",
    "# Write the DataFrame to Excel\n",
    "distance_df.to_excel('Facility_to_Demand_distances.xlsx', index=False)"
   ]
  },
  {
   "cell_type": "markdown",
   "metadata": {},
   "source": [
    "### 3c) Create the S2F2D dataframe for the optimization from Supply to Facility (S2F) and Facility to Demand Nodes (F2D)"
   ]
  },
  {
   "cell_type": "code",
   "execution_count": 10,
   "metadata": {},
   "outputs": [],
   "source": [
    "### Calculate Distances from Supply to Facility Nodes (S2F) ###\n",
    "\n",
    "# Read in Excel files as dataframes\n",
    "df_S2F = pd.read_excel(\"Supply_to_Facility_distances.xlsx\", sheet_name=\"Sheet1\")\n",
    "df_S2F_coordinates = pd.DataFrame().assign(\n",
    "    origin = df_S2F[\"origin\"],\n",
    "    destination = df_S2F[\"destination\"],\n",
    "    distance_km = df_S2F[\"distance_km\"])\n",
    "\n",
    "# Split the origin and destination columns into separate columns\n",
    "df_S2F_coordinates[['origin_name', \n",
    "                    'origin_country',\n",
    "                    'origin_latitude',\n",
    "                    'origin_longitude',\n",
    "                    'origin_tonnes']] = df_S2F_coordinates['origin'].str.split(';', expand=True)\n",
    "df_S2F_coordinates[['destination_name', \n",
    "                    'destination_country',\n",
    "                    'destination_latitude',\n",
    "                    'destination_longitude']] = df_S2F_coordinates['destination'].str.split(';', expand=True)\n",
    "\n",
    "# Reorder the columns and rename column headers to make them different from F2D\n",
    "df_S2F_coordinates = df_S2F_coordinates[['origin_name', \n",
    "                                         'origin_country',\n",
    "                                         'origin_latitude',\n",
    "                                         'origin_longitude',\n",
    "                                         'origin_tonnes',\n",
    "                                         'destination_name', \n",
    "                                         'destination_country',\n",
    "                                         'destination_latitude',\n",
    "                                         'destination_longitude',\n",
    "                                         'distance_km']].rename(columns={'origin_name': 'Supply_name',\n",
    "                                                                'origin_country':'Supply_country',\n",
    "                                                                'origin_latitude':'Supply_latitude',\n",
    "                                                                'origin_longitude':'Supply_longitude',\n",
    "                                                                'origin_tonnes':'Supply_tonnes',\n",
    "                                                                'destination_name':'Facility_name',\n",
    "                                                                'destination_country':'Facility_country',\n",
    "                                                                'destination_latitude':'Facility_latitude',\n",
    "                                                                'destination_longitude':'Facility_longitude',\n",
    "                                                                'distance_km':'S2F_distance_km'})\n",
    "\n",
    "# Remove empty rows that don't have distances\n",
    "df_S2F_coordinates = df_S2F_coordinates.dropna(subset = ['S2F_distance_km'])\n",
    "\n",
    "### Calculate Distances from Facility to Demand Nodes (F2D) ###\n",
    "\n",
    "# Read in Excel files as dataframes\n",
    "df_F2D = pd.read_excel(\"Facility_to_Demand_distances.xlsx\", sheet_name=\"Sheet1\")\n",
    "df_F2D_coordinates = pd.DataFrame().assign(\n",
    "    origin = df_F2D[\"origin\"],\n",
    "    destination = df_F2D[\"destination\"],\n",
    "    distance_km = df_F2D[\"distance_km\"])\n",
    "\n",
    "# Split the origin and destination columns into separate columns\n",
    "df_F2D_coordinates[['origin_name', \n",
    "                    'origin_country',\n",
    "                    'origin_latitude',\n",
    "                    'origin_longitude', \n",
    "                    'origin_tonnes']] = df_F2D_coordinates['origin'].str.split(';', expand=True)\n",
    "df_F2D_coordinates[['destination_name', \n",
    "                    'destination_country',\n",
    "                    'destination_latitude',\n",
    "                    'destination_longitude']] = df_F2D_coordinates['destination'].str.split(';', expand=True)\n",
    "\n",
    "# Reorder the columns and rename column headers to make them different from S2F\n",
    "df_F2D_coordinates = df_F2D_coordinates[['origin_name', \n",
    "                                         'origin_country',\n",
    "                                         'origin_latitude',\n",
    "                                         'origin_longitude',\n",
    "                                         'origin_tonnes',\n",
    "                                         'destination_name', \n",
    "                                         'destination_country',\n",
    "                                         'destination_latitude',\n",
    "                                         'destination_longitude',\n",
    "                                         'distance_km']].rename(columns={'origin_name': 'Demand_name',\n",
    "                                                                'origin_country':'Demand_country',\n",
    "                                                                'origin_latitude':'Demand_latitude',\n",
    "                                                                'origin_longitude':'Demand_longitude',\n",
    "                                                                'origin_tonnes':'Demand_tonnes',\n",
    "                                                                'destination_name':'Facility_name',\n",
    "                                                                'destination_country':'Facility_country',\n",
    "                                                                'destination_latitude':'Facility_latitude',\n",
    "                                                                'destination_longitude':'Facility_longitude',\n",
    "                                                                'distance_km':'F2D_distance_km'})\n",
    "\n",
    "# Remove empty rows that don't have distances\n",
    "df_F2D_coordinates = df_F2D_coordinates.dropna(subset = ['F2D_distance_km'])\n",
    "\n",
    "# Remove columns that are the same as S2F\n",
    "df_F2D_coordinates = df_F2D_coordinates.drop(columns=['Facility_country',\n",
    "                                                      'Facility_latitude',\n",
    "                                                      'Facility_longitude'])\n",
    "\n",
    "### MERGE F2D, S2F AND FIXES COSTS ###\n",
    "\n",
    "# Merge D2F and S2F\n",
    "S2F2D = pd.merge(df_F2D_coordinates, df_S2F_coordinates,  how='left', left_on=['Facility_name'], right_on = ['Facility_name']).reset_index()"
   ]
  },
  {
   "cell_type": "markdown",
   "metadata": {},
   "source": [
    "### 3d) Merge S2F2D with the Fixed cost"
   ]
  },
  {
   "cell_type": "code",
   "execution_count": 11,
   "metadata": {},
   "outputs": [],
   "source": [
    "df_fixed_costs = pd.read_excel(\"Fixed_costs.xlsx\", usecols=[\"Country\", \"Fixed_cost\"])\n",
    "\n",
    "# Do an inner join between df_facilities and df_fixed_costs and drop the Latitude and Longitude columns\n",
    "df_facilityCoordinatesFull = pd.merge(df_facilities, \n",
    "                                      df_fixed_costs, \n",
    "                                      on='Country', \n",
    "                                      how='inner').drop(columns=['Latitude',\n",
    "                                                                 'Longitude']).reset_index()\n",
    "\n",
    "# Remove rows with no country (only if countries where candidate facilities don't exist shouldn't be included)\n",
    "df_facilityCoordinatesFull = df_facilityCoordinatesFull[df_facilityCoordinatesFull.Country != \"\"]\n",
    "\n",
    "# Merge S2F2D with fixed costs and remove generated index columns and repeated facility name column.\n",
    "S2F2D_FC = pd.merge(S2F2D, \n",
    "                    df_facilityCoordinatesFull,  \n",
    "                    how='inner', \n",
    "                    left_on=['Facility_name'], \n",
    "                    right_on = ['Name']).drop(columns=['index_x',\n",
    "                                                       'index_y',\n",
    "                                                       'Name']).reset_index(drop = True)"
   ]
  },
  {
   "cell_type": "markdown",
   "metadata": {},
   "source": [
    "### 3e) Calculate Transport Costs and add to S2F2D"
   ]
  },
  {
   "cell_type": "code",
   "execution_count": 12,
   "metadata": {},
   "outputs": [],
   "source": [
    "# Create new columns for tranportation cost (cost per tonne)\n",
    "S2F2D_FC['Transport_cost_F2D'] = S2F2D_FC['F2D_distance_km']*constantsfile.drivingcost_per_tonnekm\n",
    "S2F2D_FC['Transport_cost_S2F'] = S2F2D_FC['S2F_distance_km']*constantsfile.drivingcost_per_tonnekm\n",
    "\n",
    "# Save S2F2D_FC as CSV file\n",
    "S2F2D_FC.to_csv('S2F2D.csv', index=False)"
   ]
  }
 ],
 "metadata": {
  "kernelspec": {
   "display_name": "Python 3",
   "language": "python",
   "name": "python3"
  },
  "language_info": {
   "codemirror_mode": {
    "name": "ipython",
    "version": 3
   },
   "file_extension": ".py",
   "mimetype": "text/x-python",
   "name": "python",
   "nbconvert_exporter": "python",
   "pygments_lexer": "ipython3",
   "version": "3.13.2"
  },
  "orig_nbformat": 4
 },
 "nbformat": 4,
 "nbformat_minor": 2
}
