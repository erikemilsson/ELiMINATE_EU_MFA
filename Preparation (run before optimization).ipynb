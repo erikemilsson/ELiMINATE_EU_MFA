{
 "cells": [
  {
   "cell_type": "markdown",
   "metadata": {},
   "source": [
    "# Preparation (run before optimization)\n",
    "\n",
    "This file creates the S2F2D.csv file which contains all input data for the optimization. It only needs to be run once for the optimization.\n",
    "\n",
    "## Table of Contents\n",
    "\n",
    "1. Preparation\n",
    "2. Generate a grid over Europe for all candidate positions of facilities and save in Facilities.xlsx\n",
    "3. Create the Distance Matrix for Supply-to-Facility points and Facility-to-Demand points\n",
    "* 3a) Supply to Facility (Supply = origin, Facility = destination)\n",
    "* 3b) Facility to Demand (Facility = origin, Demand = destination)\n",
    "* 3c) Create the S2F2D dataframe for the optimization\n",
    "* 3d) Merge S2F2D with the Fixed cost\n",
    "* 3e) Calculate Transport Costs and add to S2F2D\n",
    "\n",
    "## 1. Preparation\n",
    "\n",
    "### Import libraries (install if necessary)"
   ]
  },
  {
   "cell_type": "code",
   "execution_count": 1,
   "metadata": {},
   "outputs": [],
   "source": [
    "# (uncomment install lines if necessary)\n",
    "#import kaleido\n",
    "#kaleido.__version__ #0.2.1\n",
    "import numpy as np\n",
    "import pandas as pd\n",
    "import json\n",
    "import geopandas as gpd\n",
    "#import folium\n",
    "import plotly.express as px\n",
    "#import plotly.graph_objects as go\n",
    "import requests\n",
    "from global_land_mask import globe # python -m pip install global_land_mask\n",
    "import time\n",
    "import constantsfile # constantsfile.py"
   ]
  },
  {
   "cell_type": "markdown",
   "metadata": {},
   "source": [
    "### Load in the Supply and Demand points from Excel files"
   ]
  },
  {
   "cell_type": "code",
   "execution_count": 2,
   "metadata": {},
   "outputs": [],
   "source": [
    "df_demand = pd.read_excel(\"Demand.xlsx\", usecols=[\"Name\", \n",
    "                                                  \"Country\",\n",
    "                                                  \"Latitude\",\n",
    "                                                  \"Longitude\",\n",
    "                                                  \"Tonnes\"])\n",
    "df_supply = pd.read_excel(\"Supply.xlsx\", usecols=[\"Name\",\n",
    "                                                  \"Country\",\n",
    "                                                  \"Latitude\",\n",
    "                                                  \"Longitude\",\n",
    "                                                  \"Tonnes\"])"
   ]
  },
  {
   "cell_type": "markdown",
   "metadata": {},
   "source": [
    "## 2. Generate a grid over Europe for all candidate positions of facilities and save in Facilities.xlsx"
   ]
  },
  {
   "cell_type": "code",
   "execution_count": 3,
   "metadata": {},
   "outputs": [],
   "source": [
    "# Generate the grid coordinates\n",
    "grid = []\n",
    "for lat in range(int(constantsfile.min_lat), int(constantsfile.max_lat) + 1):\n",
    "    for lon in range(int(constantsfile.min_lon), int(constantsfile.max_lon) + 1):\n",
    "        if globe.is_land(lat, lon):  # Check if coordinates are on land and include if yes\n",
    "            for i in range(int(constantsfile.grid_spacing)):\n",
    "                for j in range(int(constantsfile.grid_spacing)):\n",
    "                    point_lat = lat + i / constantsfile.grid_spacing\n",
    "                    point_lon = lon + j / constantsfile.grid_spacing\n",
    "                    params = { \n",
    "                        'key': constantsfile.api_key_opencage,\n",
    "                        'q': f\"{point_lat},{point_lon}\",\n",
    "                        'no_annotations': 1\n",
    "                    } # API to check the country the coordinates are in\n",
    "                    response = requests.get(constantsfile.base_url_opencage, params=params).json()\n",
    "                    if 'results' in response and len(response['results']) > 0:\n",
    "                        country = response['results'][0]['components']['country']\n",
    "                        grid.append((point_lat, point_lon, country))\n",
    "\n",
    "# Create a DataFrame with the grid coordinates and country information\n",
    "df_facilities = pd.DataFrame(grid, columns=['Latitude', \n",
    "                                            'Longitude',\n",
    "                                            'Country'])\n",
    "\n",
    "# Reorder the columns\n",
    "df_facilities = df_facilities[['Country',\n",
    "                               'Latitude', \n",
    "                               'Longitude']].reset_index()\n",
    "\n",
    "# Rename the 'index' column\n",
    "df_facilities = df_facilities.rename(columns={'index': 'Name'})\n",
    "\n",
    "# Replace name of countries so they match the Fixed Cost df\n",
    "df_facilities['Country'] = df_facilities['Country'].replace('Czechia','Czech Republic')\n",
    "\n",
    "# Add a prefix \"N\" to the Facility name number\n",
    "df_facilities['Name'] = 'N' + df_facilities['Name'].astype(str)\n",
    "\n",
    "# Save the DataFrame to an Excel file\n",
    "df_facilities.to_excel('Facilities.xlsx', index=True)"
   ]
  },
  {
   "cell_type": "code",
   "execution_count": 4,
   "metadata": {},
   "outputs": [
    {
     "data": {
      "application/vnd.plotly.v1+json": {
       "config": {
        "plotlyServerURL": "https://plot.ly"
       },
       "data": [
        {
         "hovertemplate": "<b>%{hovertext}</b><br><br>Latitude=%{lat}<br>Longitude=%{lon}<extra></extra>",
         "hovertext": [
          "N0",
          "N1",
          "N2",
          "N3",
          "N4",
          "N5",
          "N6",
          "N7",
          "N8",
          "N9",
          "N10",
          "N11",
          "N12",
          "N13",
          "N14",
          "N15",
          "N16",
          "N17",
          "N18",
          "N19",
          "N20",
          "N21",
          "N22",
          "N23",
          "N24",
          "N25",
          "N26",
          "N27",
          "N28",
          "N29",
          "N30",
          "N31",
          "N32",
          "N33",
          "N34",
          "N35",
          "N36",
          "N37",
          "N38",
          "N39",
          "N40",
          "N41",
          "N42",
          "N43",
          "N44",
          "N45",
          "N46",
          "N47",
          "N48",
          "N49",
          "N50",
          "N51",
          "N52",
          "N53",
          "N54",
          "N55",
          "N56",
          "N57",
          "N58",
          "N59",
          "N60",
          "N61",
          "N62",
          "N63",
          "N64",
          "N65",
          "N66",
          "N67",
          "N68",
          "N69",
          "N70",
          "N71",
          "N72",
          "N73",
          "N74",
          "N75",
          "N76",
          "N77",
          "N78",
          "N79",
          "N80",
          "N81",
          "N82",
          "N83",
          "N84",
          "N85",
          "N86",
          "N87",
          "N88",
          "N89",
          "N90",
          "N91",
          "N92",
          "N93",
          "N94",
          "N95",
          "N96",
          "N97",
          "N98",
          "N99",
          "N100",
          "N101",
          "N102",
          "N103",
          "N104",
          "N105",
          "N106",
          "N107",
          "N108",
          "N109",
          "N110",
          "N111",
          "N112",
          "N113",
          "N114",
          "N115",
          "N116",
          "N117",
          "N118",
          "N119",
          "N120",
          "N121",
          "N122",
          "N123",
          "N124",
          "N125",
          "N126",
          "N127",
          "N128",
          "N129",
          "N130",
          "N131",
          "N132",
          "N133",
          "N134",
          "N135",
          "N136",
          "N137",
          "N138",
          "N139",
          "N140",
          "N141",
          "N142",
          "N143",
          "N144",
          "N145",
          "N146",
          "N147",
          "N148",
          "N149",
          "N150",
          "N151",
          "N152",
          "N153",
          "N154",
          "N155",
          "N156",
          "N157",
          "N158",
          "N159",
          "N160",
          "N161",
          "N162",
          "N163",
          "N164",
          "N165",
          "N166",
          "N167",
          "N168",
          "N169",
          "N170",
          "N171",
          "N172",
          "N173",
          "N174",
          "N175",
          "N176",
          "N177",
          "N178",
          "N179",
          "N180",
          "N181",
          "N182",
          "N183",
          "N184",
          "N185",
          "N186",
          "N187",
          "N188",
          "N189",
          "N190",
          "N191",
          "N192",
          "N193",
          "N194",
          "N195",
          "N196",
          "N197",
          "N198",
          "N199",
          "N200",
          "N201",
          "N202",
          "N203",
          "N204",
          "N205",
          "N206",
          "N207",
          "N208",
          "N209",
          "N210",
          "N211",
          "N212",
          "N213",
          "N214",
          "N215",
          "N216",
          "N217",
          "N218",
          "N219",
          "N220",
          "N221",
          "N222",
          "N223",
          "N224",
          "N225",
          "N226",
          "N227",
          "N228",
          "N229",
          "N230",
          "N231",
          "N232",
          "N233",
          "N234",
          "N235",
          "N236",
          "N237",
          "N238",
          "N239",
          "N240",
          "N241",
          "N242",
          "N243",
          "N244",
          "N245",
          "N246",
          "N247",
          "N248",
          "N249",
          "N250",
          "N251",
          "N252",
          "N253",
          "N254",
          "N255",
          "N256",
          "N257",
          "N258",
          "N259",
          "N260",
          "N261",
          "N262",
          "N263",
          "N264",
          "N265",
          "N266",
          "N267",
          "N268",
          "N269",
          "N270",
          "N271",
          "N272",
          "N273",
          "N274",
          "N275",
          "N276",
          "N277",
          "N278",
          "N279",
          "N280",
          "N281",
          "N282",
          "N283",
          "N284",
          "N285",
          "N286",
          "N287",
          "N288",
          "N289",
          "N290",
          "N291",
          "N292",
          "N293",
          "N294",
          "N295",
          "N296",
          "N297",
          "N298",
          "N299",
          "N300",
          "N301",
          "N302",
          "N303",
          "N304",
          "N305",
          "N306",
          "N307",
          "N308",
          "N309",
          "N310",
          "N311",
          "N312",
          "N313",
          "N314",
          "N315",
          "N316",
          "N317",
          "N318",
          "N319",
          "N320",
          "N321",
          "N322",
          "N323",
          "N324",
          "N325",
          "N326",
          "N327",
          "N328",
          "N329",
          "N330",
          "N331",
          "N332",
          "N333",
          "N334",
          "N335",
          "N336",
          "N337",
          "N338",
          "N339",
          "N340",
          "N341",
          "N342",
          "N343",
          "N344",
          "N345",
          "N346",
          "N347",
          "N348",
          "N349",
          "N350",
          "N351",
          "N352",
          "N353",
          "N354",
          "N355",
          "N356",
          "N357",
          "N358",
          "N359",
          "N360",
          "N361",
          "N362",
          "N363",
          "N364",
          "N365",
          "N366",
          "N367",
          "N368",
          "N369",
          "N370",
          "N371",
          "N372",
          "N373",
          "N374",
          "N375",
          "N376",
          "N377",
          "N378",
          "N379",
          "N380",
          "N381",
          "N382",
          "N383",
          "N384",
          "N385",
          "N386",
          "N387",
          "N388",
          "N389",
          "N390",
          "N391",
          "N392",
          "N393",
          "N394",
          "N395",
          "N396",
          "N397",
          "N398",
          "N399",
          "N400",
          "N401",
          "N402",
          "N403",
          "N404",
          "N405",
          "N406",
          "N407",
          "N408"
         ],
         "lat": [
          36,
          36,
          36,
          36,
          36,
          36,
          36,
          36,
          36,
          36,
          36,
          36,
          36,
          36,
          36,
          37,
          37,
          37,
          37,
          37,
          37,
          37,
          37,
          37,
          37,
          37,
          37,
          37,
          37,
          37,
          37,
          37,
          37,
          37,
          37,
          37,
          37,
          37,
          37,
          38,
          38,
          38,
          38,
          38,
          38,
          38,
          38,
          38,
          38,
          38,
          38,
          38,
          38,
          38,
          38,
          38,
          38,
          38,
          38,
          38,
          38,
          38,
          38,
          38,
          38,
          38,
          38,
          39,
          39,
          39,
          39,
          39,
          39,
          39,
          39,
          39,
          39,
          39,
          39,
          39,
          39,
          39,
          39,
          39,
          39,
          39,
          39,
          39,
          39,
          39,
          39,
          39,
          39,
          39,
          40,
          40,
          40,
          40,
          40,
          40,
          40,
          40,
          40,
          40,
          40,
          40,
          40,
          40,
          40,
          40,
          40,
          40,
          40,
          40,
          40,
          40,
          40,
          40,
          40,
          40,
          40,
          40,
          40,
          40,
          41,
          41,
          41,
          41,
          41,
          41,
          41,
          41,
          41,
          41,
          41,
          41,
          41,
          41,
          41,
          41,
          41,
          41,
          41,
          41,
          41,
          41,
          41,
          41,
          41,
          41,
          41,
          41,
          41,
          41,
          41,
          42,
          42,
          42,
          42,
          42,
          42,
          42,
          42,
          42,
          42,
          42,
          42,
          42,
          42,
          42,
          42,
          42,
          42,
          42,
          42,
          42,
          42,
          42,
          42,
          42,
          42,
          43,
          43,
          43,
          43,
          43,
          43,
          43,
          43,
          43,
          43,
          43,
          43,
          43,
          43,
          43,
          43,
          43,
          43,
          43,
          43,
          43,
          43,
          43,
          43,
          43,
          43,
          44,
          44,
          44,
          44,
          44,
          44,
          44,
          44,
          44,
          44,
          44,
          44,
          44,
          44,
          44,
          44,
          44,
          44,
          44,
          44,
          44,
          44,
          44,
          44,
          44,
          44,
          45,
          45,
          45,
          45,
          45,
          45,
          45,
          45,
          45,
          45,
          45,
          45,
          45,
          45,
          45,
          45,
          45,
          45,
          45,
          45,
          45,
          45,
          45,
          45,
          45,
          45,
          45,
          45,
          45,
          45,
          45,
          45,
          45,
          45,
          45,
          46,
          46,
          46,
          46,
          46,
          46,
          46,
          46,
          46,
          46,
          46,
          46,
          46,
          46,
          46,
          46,
          46,
          46,
          46,
          46,
          46,
          46,
          46,
          46,
          46,
          46,
          46,
          46,
          46,
          46,
          46,
          46,
          46,
          46,
          46,
          46,
          47,
          47,
          47,
          47,
          47,
          47,
          47,
          47,
          47,
          47,
          47,
          47,
          47,
          47,
          47,
          47,
          47,
          47,
          47,
          47,
          47,
          47,
          47,
          47,
          47,
          47,
          47,
          47,
          47,
          47,
          47,
          47,
          47,
          47,
          47,
          47,
          47,
          47,
          47,
          47,
          47,
          48,
          48,
          48,
          48,
          48,
          48,
          48,
          48,
          48,
          48,
          48,
          48,
          48,
          48,
          48,
          48,
          48,
          48,
          48,
          48,
          48,
          48,
          48,
          48,
          48,
          48,
          48,
          48,
          48,
          48,
          48,
          48,
          48,
          48,
          48,
          48,
          48,
          48,
          48,
          48,
          48,
          48,
          48,
          48,
          48,
          49,
          49,
          49,
          49,
          49,
          49,
          49,
          49,
          49,
          49,
          49,
          49,
          49,
          49,
          49,
          49,
          49,
          49,
          49
         ],
         "legendgroup": "",
         "lon": [
          1,
          2,
          3,
          4,
          5,
          6,
          7,
          8,
          9,
          10,
          36,
          37,
          38,
          39,
          40,
          -8,
          -6,
          -5,
          -4,
          -3,
          -2,
          9,
          10,
          11,
          15,
          23,
          27,
          29,
          30,
          31,
          32,
          33,
          34,
          35,
          36,
          37,
          38,
          39,
          40,
          -8,
          -7,
          -6,
          -5,
          -4,
          -3,
          -2,
          -1,
          13,
          14,
          15,
          16,
          22,
          23,
          24,
          28,
          29,
          30,
          31,
          32,
          33,
          34,
          35,
          36,
          37,
          38,
          39,
          40,
          -9,
          -8,
          -7,
          -6,
          -5,
          -4,
          -3,
          -2,
          -1,
          9,
          17,
          22,
          23,
          27,
          28,
          29,
          30,
          31,
          32,
          33,
          34,
          35,
          36,
          37,
          38,
          39,
          40,
          -8,
          -7,
          -6,
          -5,
          -4,
          -3,
          -2,
          -1,
          0,
          4,
          9,
          16,
          20,
          21,
          22,
          24,
          27,
          28,
          29,
          30,
          31,
          32,
          33,
          34,
          35,
          36,
          37,
          38,
          39,
          40,
          -8,
          -7,
          -6,
          -5,
          -4,
          -3,
          -2,
          -1,
          0,
          9,
          14,
          15,
          16,
          17,
          20,
          21,
          22,
          23,
          24,
          25,
          26,
          27,
          30,
          31,
          32,
          33,
          34,
          35,
          36,
          37,
          39,
          -8,
          -7,
          -6,
          -5,
          -4,
          -3,
          -2,
          -1,
          0,
          1,
          2,
          3,
          9,
          12,
          13,
          14,
          20,
          21,
          22,
          23,
          24,
          25,
          26,
          27,
          28,
          35,
          -9,
          -8,
          -7,
          -6,
          -5,
          -4,
          -3,
          -2,
          -1,
          0,
          1,
          2,
          3,
          11,
          12,
          13,
          18,
          19,
          20,
          21,
          22,
          23,
          24,
          25,
          26,
          27,
          -1,
          0,
          1,
          2,
          3,
          4,
          5,
          6,
          7,
          8,
          11,
          12,
          16,
          17,
          18,
          19,
          20,
          21,
          22,
          23,
          24,
          25,
          26,
          27,
          28,
          40,
          -1,
          0,
          1,
          2,
          3,
          4,
          5,
          6,
          7,
          8,
          9,
          10,
          11,
          12,
          14,
          15,
          16,
          17,
          18,
          19,
          20,
          21,
          22,
          23,
          24,
          25,
          26,
          27,
          28,
          29,
          34,
          35,
          38,
          39,
          40,
          -1,
          0,
          1,
          2,
          3,
          4,
          5,
          6,
          7,
          8,
          9,
          10,
          11,
          12,
          13,
          14,
          15,
          16,
          17,
          18,
          19,
          20,
          21,
          22,
          23,
          24,
          25,
          26,
          27,
          28,
          29,
          30,
          34,
          38,
          39,
          40,
          -2,
          -1,
          0,
          1,
          2,
          3,
          4,
          5,
          6,
          7,
          8,
          9,
          10,
          11,
          12,
          13,
          14,
          15,
          16,
          17,
          18,
          19,
          20,
          21,
          22,
          23,
          24,
          25,
          26,
          27,
          28,
          29,
          30,
          31,
          32,
          33,
          34,
          35,
          36,
          37,
          40,
          -4,
          -3,
          -2,
          -1,
          0,
          1,
          2,
          3,
          4,
          5,
          6,
          7,
          8,
          9,
          10,
          11,
          12,
          13,
          14,
          15,
          16,
          17,
          18,
          19,
          20,
          21,
          22,
          23,
          24,
          25,
          26,
          27,
          28,
          29,
          30,
          31,
          32,
          33,
          34,
          35,
          36,
          37,
          38,
          39,
          40,
          -1,
          0,
          1,
          2,
          3,
          4,
          5,
          6,
          7,
          8,
          9,
          10,
          11,
          12,
          13,
          14,
          15,
          16,
          17
         ],
         "marker": {
          "color": "#636efa",
          "opacity": 0.8,
          "size": 10
         },
         "mode": "markers",
         "name": "",
         "showlegend": false,
         "subplot": "mapbox",
         "type": "scattermapbox"
        }
       ],
       "layout": {
        "height": 600,
        "legend": {
         "tracegroupgap": 0
        },
        "mapbox": {
         "accesstoken": "pk.eyJ1IjoiZXJpa2VtaWxzc29uaXZsIiwiYSI6ImNsaW9ndmt5MzBmcmMzcHBjaDAwNG9lZTAifQ.v2B76LSmMgJT29Gi5IwJiw",
         "center": {
          "lat": 56,
          "lon": 15
         },
         "domain": {
          "x": [
           0,
           1
          ],
          "y": [
           0,
           1
          ]
         },
         "style": "light",
         "zoom": 2.3
        },
        "margin": {
         "t": 60
        },
        "template": {
         "data": {
          "bar": [
           {
            "error_x": {
             "color": "#2a3f5f"
            },
            "error_y": {
             "color": "#2a3f5f"
            },
            "marker": {
             "line": {
              "color": "#E5ECF6",
              "width": 0.5
             },
             "pattern": {
              "fillmode": "overlay",
              "size": 10,
              "solidity": 0.2
             }
            },
            "type": "bar"
           }
          ],
          "barpolar": [
           {
            "marker": {
             "line": {
              "color": "#E5ECF6",
              "width": 0.5
             },
             "pattern": {
              "fillmode": "overlay",
              "size": 10,
              "solidity": 0.2
             }
            },
            "type": "barpolar"
           }
          ],
          "carpet": [
           {
            "aaxis": {
             "endlinecolor": "#2a3f5f",
             "gridcolor": "white",
             "linecolor": "white",
             "minorgridcolor": "white",
             "startlinecolor": "#2a3f5f"
            },
            "baxis": {
             "endlinecolor": "#2a3f5f",
             "gridcolor": "white",
             "linecolor": "white",
             "minorgridcolor": "white",
             "startlinecolor": "#2a3f5f"
            },
            "type": "carpet"
           }
          ],
          "choropleth": [
           {
            "colorbar": {
             "outlinewidth": 0,
             "ticks": ""
            },
            "type": "choropleth"
           }
          ],
          "contour": [
           {
            "colorbar": {
             "outlinewidth": 0,
             "ticks": ""
            },
            "colorscale": [
             [
              0,
              "#0d0887"
             ],
             [
              0.1111111111111111,
              "#46039f"
             ],
             [
              0.2222222222222222,
              "#7201a8"
             ],
             [
              0.3333333333333333,
              "#9c179e"
             ],
             [
              0.4444444444444444,
              "#bd3786"
             ],
             [
              0.5555555555555556,
              "#d8576b"
             ],
             [
              0.6666666666666666,
              "#ed7953"
             ],
             [
              0.7777777777777778,
              "#fb9f3a"
             ],
             [
              0.8888888888888888,
              "#fdca26"
             ],
             [
              1,
              "#f0f921"
             ]
            ],
            "type": "contour"
           }
          ],
          "contourcarpet": [
           {
            "colorbar": {
             "outlinewidth": 0,
             "ticks": ""
            },
            "type": "contourcarpet"
           }
          ],
          "heatmap": [
           {
            "colorbar": {
             "outlinewidth": 0,
             "ticks": ""
            },
            "colorscale": [
             [
              0,
              "#0d0887"
             ],
             [
              0.1111111111111111,
              "#46039f"
             ],
             [
              0.2222222222222222,
              "#7201a8"
             ],
             [
              0.3333333333333333,
              "#9c179e"
             ],
             [
              0.4444444444444444,
              "#bd3786"
             ],
             [
              0.5555555555555556,
              "#d8576b"
             ],
             [
              0.6666666666666666,
              "#ed7953"
             ],
             [
              0.7777777777777778,
              "#fb9f3a"
             ],
             [
              0.8888888888888888,
              "#fdca26"
             ],
             [
              1,
              "#f0f921"
             ]
            ],
            "type": "heatmap"
           }
          ],
          "heatmapgl": [
           {
            "colorbar": {
             "outlinewidth": 0,
             "ticks": ""
            },
            "colorscale": [
             [
              0,
              "#0d0887"
             ],
             [
              0.1111111111111111,
              "#46039f"
             ],
             [
              0.2222222222222222,
              "#7201a8"
             ],
             [
              0.3333333333333333,
              "#9c179e"
             ],
             [
              0.4444444444444444,
              "#bd3786"
             ],
             [
              0.5555555555555556,
              "#d8576b"
             ],
             [
              0.6666666666666666,
              "#ed7953"
             ],
             [
              0.7777777777777778,
              "#fb9f3a"
             ],
             [
              0.8888888888888888,
              "#fdca26"
             ],
             [
              1,
              "#f0f921"
             ]
            ],
            "type": "heatmapgl"
           }
          ],
          "histogram": [
           {
            "marker": {
             "pattern": {
              "fillmode": "overlay",
              "size": 10,
              "solidity": 0.2
             }
            },
            "type": "histogram"
           }
          ],
          "histogram2d": [
           {
            "colorbar": {
             "outlinewidth": 0,
             "ticks": ""
            },
            "colorscale": [
             [
              0,
              "#0d0887"
             ],
             [
              0.1111111111111111,
              "#46039f"
             ],
             [
              0.2222222222222222,
              "#7201a8"
             ],
             [
              0.3333333333333333,
              "#9c179e"
             ],
             [
              0.4444444444444444,
              "#bd3786"
             ],
             [
              0.5555555555555556,
              "#d8576b"
             ],
             [
              0.6666666666666666,
              "#ed7953"
             ],
             [
              0.7777777777777778,
              "#fb9f3a"
             ],
             [
              0.8888888888888888,
              "#fdca26"
             ],
             [
              1,
              "#f0f921"
             ]
            ],
            "type": "histogram2d"
           }
          ],
          "histogram2dcontour": [
           {
            "colorbar": {
             "outlinewidth": 0,
             "ticks": ""
            },
            "colorscale": [
             [
              0,
              "#0d0887"
             ],
             [
              0.1111111111111111,
              "#46039f"
             ],
             [
              0.2222222222222222,
              "#7201a8"
             ],
             [
              0.3333333333333333,
              "#9c179e"
             ],
             [
              0.4444444444444444,
              "#bd3786"
             ],
             [
              0.5555555555555556,
              "#d8576b"
             ],
             [
              0.6666666666666666,
              "#ed7953"
             ],
             [
              0.7777777777777778,
              "#fb9f3a"
             ],
             [
              0.8888888888888888,
              "#fdca26"
             ],
             [
              1,
              "#f0f921"
             ]
            ],
            "type": "histogram2dcontour"
           }
          ],
          "mesh3d": [
           {
            "colorbar": {
             "outlinewidth": 0,
             "ticks": ""
            },
            "type": "mesh3d"
           }
          ],
          "parcoords": [
           {
            "line": {
             "colorbar": {
              "outlinewidth": 0,
              "ticks": ""
             }
            },
            "type": "parcoords"
           }
          ],
          "pie": [
           {
            "automargin": true,
            "type": "pie"
           }
          ],
          "scatter": [
           {
            "fillpattern": {
             "fillmode": "overlay",
             "size": 10,
             "solidity": 0.2
            },
            "type": "scatter"
           }
          ],
          "scatter3d": [
           {
            "line": {
             "colorbar": {
              "outlinewidth": 0,
              "ticks": ""
             }
            },
            "marker": {
             "colorbar": {
              "outlinewidth": 0,
              "ticks": ""
             }
            },
            "type": "scatter3d"
           }
          ],
          "scattercarpet": [
           {
            "marker": {
             "colorbar": {
              "outlinewidth": 0,
              "ticks": ""
             }
            },
            "type": "scattercarpet"
           }
          ],
          "scattergeo": [
           {
            "marker": {
             "colorbar": {
              "outlinewidth": 0,
              "ticks": ""
             }
            },
            "type": "scattergeo"
           }
          ],
          "scattergl": [
           {
            "marker": {
             "colorbar": {
              "outlinewidth": 0,
              "ticks": ""
             }
            },
            "type": "scattergl"
           }
          ],
          "scattermapbox": [
           {
            "marker": {
             "colorbar": {
              "outlinewidth": 0,
              "ticks": ""
             }
            },
            "type": "scattermapbox"
           }
          ],
          "scatterpolar": [
           {
            "marker": {
             "colorbar": {
              "outlinewidth": 0,
              "ticks": ""
             }
            },
            "type": "scatterpolar"
           }
          ],
          "scatterpolargl": [
           {
            "marker": {
             "colorbar": {
              "outlinewidth": 0,
              "ticks": ""
             }
            },
            "type": "scatterpolargl"
           }
          ],
          "scatterternary": [
           {
            "marker": {
             "colorbar": {
              "outlinewidth": 0,
              "ticks": ""
             }
            },
            "type": "scatterternary"
           }
          ],
          "surface": [
           {
            "colorbar": {
             "outlinewidth": 0,
             "ticks": ""
            },
            "colorscale": [
             [
              0,
              "#0d0887"
             ],
             [
              0.1111111111111111,
              "#46039f"
             ],
             [
              0.2222222222222222,
              "#7201a8"
             ],
             [
              0.3333333333333333,
              "#9c179e"
             ],
             [
              0.4444444444444444,
              "#bd3786"
             ],
             [
              0.5555555555555556,
              "#d8576b"
             ],
             [
              0.6666666666666666,
              "#ed7953"
             ],
             [
              0.7777777777777778,
              "#fb9f3a"
             ],
             [
              0.8888888888888888,
              "#fdca26"
             ],
             [
              1,
              "#f0f921"
             ]
            ],
            "type": "surface"
           }
          ],
          "table": [
           {
            "cells": {
             "fill": {
              "color": "#EBF0F8"
             },
             "line": {
              "color": "white"
             }
            },
            "header": {
             "fill": {
              "color": "#C8D4E3"
             },
             "line": {
              "color": "white"
             }
            },
            "type": "table"
           }
          ]
         },
         "layout": {
          "annotationdefaults": {
           "arrowcolor": "#2a3f5f",
           "arrowhead": 0,
           "arrowwidth": 1
          },
          "autotypenumbers": "strict",
          "coloraxis": {
           "colorbar": {
            "outlinewidth": 0,
            "ticks": ""
           }
          },
          "colorscale": {
           "diverging": [
            [
             0,
             "#8e0152"
            ],
            [
             0.1,
             "#c51b7d"
            ],
            [
             0.2,
             "#de77ae"
            ],
            [
             0.3,
             "#f1b6da"
            ],
            [
             0.4,
             "#fde0ef"
            ],
            [
             0.5,
             "#f7f7f7"
            ],
            [
             0.6,
             "#e6f5d0"
            ],
            [
             0.7,
             "#b8e186"
            ],
            [
             0.8,
             "#7fbc41"
            ],
            [
             0.9,
             "#4d9221"
            ],
            [
             1,
             "#276419"
            ]
           ],
           "sequential": [
            [
             0,
             "#0d0887"
            ],
            [
             0.1111111111111111,
             "#46039f"
            ],
            [
             0.2222222222222222,
             "#7201a8"
            ],
            [
             0.3333333333333333,
             "#9c179e"
            ],
            [
             0.4444444444444444,
             "#bd3786"
            ],
            [
             0.5555555555555556,
             "#d8576b"
            ],
            [
             0.6666666666666666,
             "#ed7953"
            ],
            [
             0.7777777777777778,
             "#fb9f3a"
            ],
            [
             0.8888888888888888,
             "#fdca26"
            ],
            [
             1,
             "#f0f921"
            ]
           ],
           "sequentialminus": [
            [
             0,
             "#0d0887"
            ],
            [
             0.1111111111111111,
             "#46039f"
            ],
            [
             0.2222222222222222,
             "#7201a8"
            ],
            [
             0.3333333333333333,
             "#9c179e"
            ],
            [
             0.4444444444444444,
             "#bd3786"
            ],
            [
             0.5555555555555556,
             "#d8576b"
            ],
            [
             0.6666666666666666,
             "#ed7953"
            ],
            [
             0.7777777777777778,
             "#fb9f3a"
            ],
            [
             0.8888888888888888,
             "#fdca26"
            ],
            [
             1,
             "#f0f921"
            ]
           ]
          },
          "colorway": [
           "#636efa",
           "#EF553B",
           "#00cc96",
           "#ab63fa",
           "#FFA15A",
           "#19d3f3",
           "#FF6692",
           "#B6E880",
           "#FF97FF",
           "#FECB52"
          ],
          "font": {
           "color": "#2a3f5f"
          },
          "geo": {
           "bgcolor": "white",
           "lakecolor": "white",
           "landcolor": "#E5ECF6",
           "showlakes": true,
           "showland": true,
           "subunitcolor": "white"
          },
          "hoverlabel": {
           "align": "left"
          },
          "hovermode": "closest",
          "mapbox": {
           "style": "light"
          },
          "paper_bgcolor": "white",
          "plot_bgcolor": "#E5ECF6",
          "polar": {
           "angularaxis": {
            "gridcolor": "white",
            "linecolor": "white",
            "ticks": ""
           },
           "bgcolor": "#E5ECF6",
           "radialaxis": {
            "gridcolor": "white",
            "linecolor": "white",
            "ticks": ""
           }
          },
          "scene": {
           "xaxis": {
            "backgroundcolor": "#E5ECF6",
            "gridcolor": "white",
            "gridwidth": 2,
            "linecolor": "white",
            "showbackground": true,
            "ticks": "",
            "zerolinecolor": "white"
           },
           "yaxis": {
            "backgroundcolor": "#E5ECF6",
            "gridcolor": "white",
            "gridwidth": 2,
            "linecolor": "white",
            "showbackground": true,
            "ticks": "",
            "zerolinecolor": "white"
           },
           "zaxis": {
            "backgroundcolor": "#E5ECF6",
            "gridcolor": "white",
            "gridwidth": 2,
            "linecolor": "white",
            "showbackground": true,
            "ticks": "",
            "zerolinecolor": "white"
           }
          },
          "shapedefaults": {
           "line": {
            "color": "#2a3f5f"
           }
          },
          "ternary": {
           "aaxis": {
            "gridcolor": "white",
            "linecolor": "white",
            "ticks": ""
           },
           "baxis": {
            "gridcolor": "white",
            "linecolor": "white",
            "ticks": ""
           },
           "bgcolor": "#E5ECF6",
           "caxis": {
            "gridcolor": "white",
            "linecolor": "white",
            "ticks": ""
           }
          },
          "title": {
           "x": 0.05
          },
          "xaxis": {
           "automargin": true,
           "gridcolor": "white",
           "linecolor": "white",
           "ticks": "",
           "title": {
            "standoff": 15
           },
           "zerolinecolor": "white",
           "zerolinewidth": 2
          },
          "yaxis": {
           "automargin": true,
           "gridcolor": "white",
           "linecolor": "white",
           "ticks": "",
           "title": {
            "standoff": 15
           },
           "zerolinecolor": "white",
           "zerolinewidth": 2
          }
         }
        },
        "title": {
         "text": "Facilities Grid"
        },
        "width": 800
       }
      }
     },
     "metadata": {},
     "output_type": "display_data"
    }
   ],
   "source": [
    "df_facilities = pd.read_excel(\"Facilities.xlsx\", usecols=[\"Name\", \"Country\", \"Latitude\",\"Longitude\"])\n",
    "\n",
    "fig = px.scatter_mapbox(df_facilities,\n",
    "                        lat =\"Latitude\",lon=\"Longitude\",\n",
    "                        hover_name=\"Name\",\n",
    "                        zoom=2.3, center=dict(lon=15, lat=56),\n",
    "                        height=600, width=800,\n",
    "                        opacity=0.8,\n",
    "                        color_continuous_scale=px.colors.sequential.algae,\n",
    "                        )\n",
    "fig.update_layout(mapbox_style='light', mapbox_accesstoken=constantsfile.mapbox_access_token)\n",
    "fig.update_layout(title_text=\"Facilities Grid\")\n",
    "fig.update_traces(marker=dict(size=10))\n",
    "fig.show()\n",
    "#fig.write_image(\"Facility.png\", scale=1, engine='kaleido')"
   ]
  },
  {
   "cell_type": "markdown",
   "metadata": {},
   "source": [
    "## 3. Create the Distance Matrix for Supply-to-Facility points and Facility-to-Demand points\n",
    "\n",
    "### 3a) Supply to Facility (Supply = origin, Facility = destination)\n",
    "\n",
    "Chunk the Supply dataframe into 30-row sub-dataframes as a work-around to not exceed the openrouteservice maximums limits. Each chunk will be fed into the script in a loop."
   ]
  },
  {
   "cell_type": "code",
   "execution_count": 5,
   "metadata": {},
   "outputs": [],
   "source": [
    "#df_origins_full = supply (Actually reverse route in this case. 2030 is chosen as it includes all nodes.)\n",
    "df_origins_full = df_supply\n",
    "df_destinations_full = df_facilities\n",
    "\n",
    "# Function split_dataframe\n",
    "def split_dataframe(df, chunk_size):\n",
    "    num_chunks = len(df) // chunk_size\n",
    "    if len(df) % chunk_size != 0:\n",
    "        num_chunks += 1\n",
    "\n",
    "    dfs = []\n",
    "    for i in range(num_chunks):\n",
    "        start_idx = i * chunk_size\n",
    "        end_idx = (i + 1) * chunk_size\n",
    "        dfs.append(df[start_idx:end_idx].reset_index(drop=True))\n",
    "\n",
    "    return dfs\n",
    "\n",
    "# Chunk size 30\n",
    "df_destinations_full = split_dataframe(df_destinations_full, 30)"
   ]
  },
  {
   "cell_type": "markdown",
   "metadata": {},
   "source": [
    "Create a new pandas dataframe and combine name, country, and coordinate columns into a new column for identification to be possible after the API matrix run. Run the chunks throught the API in a loop and then combine them. Then create a file to save the result."
   ]
  },
  {
   "cell_type": "code",
   "execution_count": 6,
   "metadata": {},
   "outputs": [],
   "source": [
    "# Loop over each chunk\n",
    "distances = []\n",
    "for j in range(len(df_destinations_full)):\n",
    "  df_destinations = df_destinations_full[j]\n",
    "  df_origins = df_origins_full\n",
    "\n",
    "  # Temporarily convert the latitude and longitude as strings to combine wth name and country\n",
    "  df_destinations['Latitude'] = df_destinations['Latitude'].astype(str)\n",
    "  df_destinations['Longitude'] = df_destinations['Longitude'].astype(str)\n",
    "  df_origins['Latitude'] = df_origins['Latitude'].astype(str)\n",
    "  df_origins['Longitude'] = df_origins['Longitude'].astype(str)\n",
    "  df_origins['Tonnes'] = df_origins['Tonnes'].astype(str)\n",
    "\n",
    "  # Combine name and country to feed in as the identifier of the coordinates for the API\n",
    "  df_destinations['name&country&coordinates'] = df_destinations['Name'] + ';' + df_destinations['Country'] + ';' + df_destinations['Latitude'] + ';' + df_destinations['Longitude']\n",
    "  df_origins['name&country&coordinates&tonnes'] = df_origins['Name'] + ';' + df_origins['Country'] + ';' + df_origins['Latitude'] + ';' + df_origins['Longitude'] + ';' + df_origins['Tonnes']\n",
    "\n",
    "  # Convert coordinate columns back to float\n",
    "  df_destinations['Latitude'] = df_destinations['Latitude'].astype(float)\n",
    "  df_destinations['Longitude'] = df_destinations['Longitude'].astype(float)\n",
    "  df_origins['Latitude'] = df_origins['Latitude'].astype(float)\n",
    "  df_origins['Longitude'] = df_origins['Longitude'].astype(float)\n",
    "\n",
    "  # Reorder and drop unecessary columns\n",
    "  df_destinations = df_destinations[['name&country&coordinates', \n",
    "                                     'Latitude', \n",
    "                                     'Longitude']]\n",
    "  df_origins = df_origins[['name&country&coordinates&tonnes',\n",
    "                           'Latitude', \n",
    "                           'Longitude']]\n",
    "\n",
    "  # Reset index\n",
    "  df_origins = df_origins.reset_index()\n",
    "  df_destinations = df_destinations.reset_index()\n",
    "\n",
    "  # Combine the origins and destination dataframes into one\n",
    "  df_locations = pd.concat([df_origins, df_destinations], ignore_index=True)\n",
    "\n",
    "  # Convert the df coordinates into API format\n",
    "  locations = []\n",
    "  for _, row in df_locations.iterrows():\n",
    "      locations.append([row['Longitude'], row['Latitude']])\n",
    "\n",
    "  # The origins and destinations in the API are expressed in terms of a list of\n",
    "  # the origins and destinations dataframes, so here they are converted to a list\n",
    "  origins = []\n",
    "  for _, row in df_origins.iterrows():\n",
    "      origins.append([row['Longitude'], row['Latitude']])\n",
    "  destinations = []\n",
    "  for _, row in df_destinations.iterrows():\n",
    "      destinations.append([row['Longitude'], row['Latitude']])\n",
    "\n",
    "  # Create a dictionary to represent the matrix parameters\n",
    "  body = {\n",
    "      'locations': locations,\n",
    "      'destinations': list(range(len(origins), len(origins) + len(destinations))),\n",
    "      'metrics': ['distance'],\n",
    "      'sources': list(range(len(origins))),\n",
    "      'units': 'km'\n",
    "  }\n",
    "\n",
    "  headers = {\n",
    "      'Accept': 'application/json, application/geo+json, application/gpx+xml, img/png; charset=utf-8',\n",
    "      'Authorization': constantsfile.api_key_openrouteservice,\n",
    "      'Content-Type': 'application/json; charset=utf-8'\n",
    "  }\n",
    "  call = requests.post(constantsfile.base_url_openrouteservice, json=body, headers=headers)\n",
    "  call_json = call.json()\n",
    "\n",
    "  for k, row in enumerate(call_json['distances']):\n",
    "    for l, distance in enumerate(row):\n",
    "        distances.append({\n",
    "            'origin': df_origins.loc[k, 'name&country&coordinates&tonnes'],\n",
    "            'destination': df_destinations.loc[l, 'name&country&coordinates'],\n",
    "            'distance_km': distance\n",
    "          })\n",
    "\n",
    "distance_df = pd.DataFrame(distances)\n",
    "\n",
    "# Write the DataFrame to Excel\n",
    "distance_df.to_excel('Supply_to_Facility_distances.xlsx', index=False)"
   ]
  },
  {
   "cell_type": "code",
   "execution_count": 7,
   "metadata": {},
   "outputs": [
    {
     "name": "stdout",
     "output_type": "stream",
     "text": [
      "Waiting for 60 seconds to make sure API doesn't get overloaded.\n",
      "60 seconds have passed, moving on to next part of the script.\n"
     ]
    }
   ],
   "source": [
    "print(\"Waiting for 60 seconds to make sure API doesn't get overloaded.\")\n",
    "time.sleep(60)\n",
    "print(\"60 seconds have passed, moving on to next part of the script.\")"
   ]
  },
  {
   "cell_type": "markdown",
   "metadata": {},
   "source": [
    "### 3b) Facility to Demand (Facility = origin, Demand = destination)\n",
    "\n",
    "Chunk the Supply dataframe into 30-row sub-dataframes as a work-around to not exceed the openrouteservice maximums limits. Each chunk will be fed into the script in a loop.\n"
   ]
  },
  {
   "cell_type": "code",
   "execution_count": 8,
   "metadata": {},
   "outputs": [],
   "source": [
    "df_origins_full = df_demand\n",
    "df_destinations_full = df_facilities\n",
    "\n",
    "# Function split_dataframe\n",
    "def split_dataframe(df, chunk_size):\n",
    "    num_chunks = len(df) // chunk_size\n",
    "    if len(df) % chunk_size != 0:\n",
    "        num_chunks += 1\n",
    "\n",
    "    dfs = []\n",
    "    for i in range(num_chunks):\n",
    "        start_idx = i * chunk_size\n",
    "        end_idx = (i + 1) * chunk_size\n",
    "        dfs.append(df[start_idx:end_idx].reset_index(drop=True))\n",
    "\n",
    "    return dfs\n",
    "\n",
    "# Chunk size 30\n",
    "df_destinations_full = split_dataframe(df_destinations_full, 30)"
   ]
  },
  {
   "cell_type": "markdown",
   "metadata": {},
   "source": [
    "Create a new pandas dataframe and combine name, country, and coordinate columns into a new column for identification to be possible after the API matrix run. Run the chunks throught the API in a loop and then combine them. Then create a file to save the result."
   ]
  },
  {
   "cell_type": "code",
   "execution_count": 9,
   "metadata": {},
   "outputs": [],
   "source": [
    "# Loop over each chunk\n",
    "distances = []\n",
    "for j in range(len(df_destinations_full)):\n",
    "  df_destinations = df_destinations_full[j]\n",
    "  df_origins = df_origins_full\n",
    "\n",
    "  # Temporarily convert the latitude, longitude, and volume as strings to combine with name and country\n",
    "  df_destinations['Latitude'] = df_destinations['Latitude'].astype(str)\n",
    "  df_destinations['Longitude'] = df_destinations['Longitude'].astype(str)\n",
    "  df_origins['Latitude'] = df_origins['Latitude'].astype(str)\n",
    "  df_origins['Longitude'] = df_origins['Longitude'].astype(str)\n",
    "  df_origins['Tonnes'] = df_origins['Tonnes'].astype(str)\n",
    "\n",
    "  # Combine name and country to feed in as the identifier of the coordinates for the API\n",
    "  df_destinations['name&country&coordinates'] = df_destinations['Name'] + ';' + df_destinations['Country'] + ';' + df_destinations['Latitude'] + ';' + df_destinations['Longitude']\n",
    "  df_origins['name&country&coordinates&tonnes'] = df_origins['Name'] + ';' + df_origins['Country'] + ';' + df_origins['Latitude'] + ';' + df_origins['Longitude'] + ';' + df_origins['Tonnes']\n",
    "\n",
    "  # Convert coordinate columns back to float for use in API\n",
    "  df_destinations['Latitude'] = df_destinations['Latitude'].astype(float)\n",
    "  df_destinations['Longitude'] = df_destinations['Longitude'].astype(float)\n",
    "  df_origins['Latitude'] = df_origins['Latitude'].astype(float)\n",
    "  df_origins['Longitude'] = df_origins['Longitude'].astype(float)\n",
    "\n",
    "  # Reorder and drop unecessary columns\n",
    "  df_destinations = df_destinations[['name&country&coordinates', \n",
    "                                     'Latitude', \n",
    "                                     'Longitude']]\n",
    "  df_origins = df_origins[['name&country&coordinates&tonnes', \n",
    "                           'Latitude', \n",
    "                           'Longitude']]\n",
    "\n",
    "  # Reset index\n",
    "  df_origins = df_origins.reset_index()\n",
    "  df_destinations = df_destinations.reset_index()\n",
    "\n",
    "  # Combine the origins and destination dataframes into one\n",
    "  df_locations = pd.concat([df_origins, df_destinations], ignore_index=True)\n",
    "\n",
    "  # Convert the df coordinates into API format\n",
    "  locations = []\n",
    "  for _, row in df_locations.iterrows():\n",
    "      locations.append([row['Longitude'], row['Latitude']])\n",
    "\n",
    "  # The origins and destinations in the API are expressed in terms of a list of\n",
    "  # the origins and destinations dataframes, so here they are converted to a list\n",
    "  origins = []\n",
    "  for _, row in df_origins.iterrows():\n",
    "      origins.append([row['Longitude'], row['Latitude']])\n",
    "  destinations = []\n",
    "  for _, row in df_destinations.iterrows():\n",
    "      destinations.append([row['Longitude'], row['Latitude']])\n",
    "\n",
    "  # Create a dictionary to represent the matrix parameters\n",
    "  body = {\n",
    "      'locations': locations,\n",
    "      'destinations': list(range(len(origins), len(origins) + len(destinations))),\n",
    "      'metrics': ['distance'],\n",
    "      'sources': list(range(len(origins))),\n",
    "      'units': 'km'\n",
    "  }\n",
    "\n",
    "  headers = {\n",
    "      'Accept': 'application/json, application/geo+json, application/gpx+xml, img/png; charset=utf-8',\n",
    "      'Authorization': constantsfile.api_key_openrouteservice,\n",
    "      'Content-Type': 'application/json; charset=utf-8'\n",
    "  }\n",
    "  call = requests.post(constantsfile.base_url_openrouteservice, json=body, headers=headers)\n",
    "  call_json = call.json()\n",
    "\n",
    "  for k, row in enumerate(call_json['distances']):\n",
    "    for l, distance in enumerate(row):\n",
    "        distances.append({\n",
    "            'origin': df_origins.loc[k, 'name&country&coordinates&tonnes'],\n",
    "            'destination': df_destinations.loc[l, 'name&country&coordinates'],\n",
    "            'distance_km': distance\n",
    "          })\n",
    "\n",
    "\n",
    "distance_df = pd.DataFrame(distances)\n",
    "\n",
    "# Write the DataFrame to Excel\n",
    "distance_df.to_excel('Facility_to_Demand_distances.xlsx', index=False)"
   ]
  },
  {
   "cell_type": "markdown",
   "metadata": {},
   "source": [
    "### 3c) Create the S2F2D dataframe for the optimization from Supply to Facility (S2F) and Facility to Demand Nodes (F2D)"
   ]
  },
  {
   "cell_type": "code",
   "execution_count": 10,
   "metadata": {},
   "outputs": [],
   "source": [
    "### Calculate Distances from Supply to Facility Nodes (S2F) ###\n",
    "\n",
    "# Read in Excel files as dataframes\n",
    "df_S2F = pd.read_excel(\"Supply_to_Facility_distances.xlsx\", sheet_name=\"Sheet1\")\n",
    "df_S2F_coordinates = pd.DataFrame().assign(\n",
    "    origin = df_S2F[\"origin\"],\n",
    "    destination = df_S2F[\"destination\"],\n",
    "    distance_km = df_S2F[\"distance_km\"])\n",
    "\n",
    "# Split the origin and destination columns into separate columns\n",
    "df_S2F_coordinates[['origin_name', \n",
    "                    'origin_country',\n",
    "                    'origin_latitude',\n",
    "                    'origin_longitude',\n",
    "                    'origin_tonnes']] = df_S2F_coordinates['origin'].str.split(';', expand=True)\n",
    "df_S2F_coordinates[['destination_name', \n",
    "                    'destination_country',\n",
    "                    'destination_latitude',\n",
    "                    'destination_longitude']] = df_S2F_coordinates['destination'].str.split(';', expand=True)\n",
    "\n",
    "# Reorder the columns and rename column headers to make them different from F2D\n",
    "df_S2F_coordinates = df_S2F_coordinates[['origin_name', \n",
    "                                         'origin_country',\n",
    "                                         'origin_latitude',\n",
    "                                         'origin_longitude',\n",
    "                                         'origin_tonnes',\n",
    "                                         'destination_name', \n",
    "                                         'destination_country',\n",
    "                                         'destination_latitude',\n",
    "                                         'destination_longitude',\n",
    "                                         'distance_km']].rename(columns={'origin_name': 'Supply_name',\n",
    "                                                                'origin_country':'Supply_country',\n",
    "                                                                'origin_latitude':'Supply_latitude',\n",
    "                                                                'origin_longitude':'Supply_longitude',\n",
    "                                                                'origin_tonnes':'Supply_tonnes',\n",
    "                                                                'destination_name':'Facility_name',\n",
    "                                                                'destination_country':'Facility_country',\n",
    "                                                                'destination_latitude':'Facility_latitude',\n",
    "                                                                'destination_longitude':'Facility_longitude',\n",
    "                                                                'distance_km':'S2F_distance_km'})\n",
    "\n",
    "# Remove empty rows that don't have distances\n",
    "df_S2F_coordinates = df_S2F_coordinates.dropna(subset = ['S2F_distance_km'])\n",
    "\n",
    "### Calculate Distances from Facility to Demand Nodes (F2D) ###\n",
    "\n",
    "# Read in Excel files as dataframes\n",
    "df_F2D = pd.read_excel(\"Facility_to_Demand_distances.xlsx\", sheet_name=\"Sheet1\")\n",
    "df_F2D_coordinates = pd.DataFrame().assign(\n",
    "    origin = df_F2D[\"origin\"],\n",
    "    destination = df_F2D[\"destination\"],\n",
    "    distance_km = df_F2D[\"distance_km\"])\n",
    "\n",
    "# Split the origin and destination columns into separate columns\n",
    "df_F2D_coordinates[['origin_name', \n",
    "                    'origin_country',\n",
    "                    'origin_latitude',\n",
    "                    'origin_longitude', \n",
    "                    'origin_tonnes']] = df_F2D_coordinates['origin'].str.split(';', expand=True)\n",
    "df_F2D_coordinates[['destination_name', \n",
    "                    'destination_country',\n",
    "                    'destination_latitude',\n",
    "                    'destination_longitude']] = df_F2D_coordinates['destination'].str.split(';', expand=True)\n",
    "\n",
    "# Reorder the columns and rename column headers to make them different from S2F\n",
    "df_F2D_coordinates = df_F2D_coordinates[['origin_name', \n",
    "                                         'origin_country',\n",
    "                                         'origin_latitude',\n",
    "                                         'origin_longitude',\n",
    "                                         'origin_tonnes',\n",
    "                                         'destination_name', \n",
    "                                         'destination_country',\n",
    "                                         'destination_latitude',\n",
    "                                         'destination_longitude',\n",
    "                                         'distance_km']].rename(columns={'origin_name': 'Demand_name',\n",
    "                                                                'origin_country':'Demand_country',\n",
    "                                                                'origin_latitude':'Demand_latitude',\n",
    "                                                                'origin_longitude':'Demand_longitude',\n",
    "                                                                'origin_tonnes':'Demand_tonnes',\n",
    "                                                                'destination_name':'Facility_name',\n",
    "                                                                'destination_country':'Facility_country',\n",
    "                                                                'destination_latitude':'Facility_latitude',\n",
    "                                                                'destination_longitude':'Facility_longitude',\n",
    "                                                                'distance_km':'F2D_distance_km'})\n",
    "\n",
    "# Remove empty rows that don't have distances\n",
    "df_F2D_coordinates = df_F2D_coordinates.dropna(subset = ['F2D_distance_km'])\n",
    "\n",
    "# Remove columns that are the same as S2F\n",
    "df_F2D_coordinates = df_F2D_coordinates.drop(columns=['Facility_country',\n",
    "                                                      'Facility_latitude',\n",
    "                                                      'Facility_longitude'])\n",
    "\n",
    "### MERGE F2D, S2F AND FIXES COSTS ###\n",
    "\n",
    "# Merge D2F and S2F\n",
    "S2F2D = pd.merge(df_F2D_coordinates, df_S2F_coordinates,  how='left', left_on=['Facility_name'], right_on = ['Facility_name']).reset_index()"
   ]
  },
  {
   "cell_type": "markdown",
   "metadata": {},
   "source": [
    "### 3d) Merge S2F2D with the Fixed cost"
   ]
  },
  {
   "cell_type": "code",
   "execution_count": 11,
   "metadata": {},
   "outputs": [],
   "source": [
    "df_fixed_costs = pd.read_excel(\"Fixed_costs.xlsx\", usecols=[\"Country\", \"Fixed_cost\"])\n",
    "\n",
    "# Do an inner join between df_facilities and df_fixed_costs and drop the Latitude and Longitude columns\n",
    "df_facilityCoordinatesFull = pd.merge(df_facilities, \n",
    "                                      df_fixed_costs, \n",
    "                                      on='Country', \n",
    "                                      how='inner').drop(columns=['Latitude',\n",
    "                                                                 'Longitude']).reset_index()\n",
    "\n",
    "# Remove rows with no country (only if countries where candidate facilities don't exist shouldn't be included)\n",
    "df_facilityCoordinatesFull = df_facilityCoordinatesFull[df_facilityCoordinatesFull.Country != \"\"]\n",
    "\n",
    "# Merge S2F2D with fixed costs and remove generated index columns and repeated facility name column.\n",
    "S2F2D_FC = pd.merge(S2F2D, \n",
    "                    df_facilityCoordinatesFull,  \n",
    "                    how='inner', \n",
    "                    left_on=['Facility_name'], \n",
    "                    right_on = ['Name']).drop(columns=['index_x',\n",
    "                                                       'index_y',\n",
    "                                                       'Name']).reset_index(drop = True)"
   ]
  },
  {
   "cell_type": "markdown",
   "metadata": {},
   "source": [
    "### 3e) Calculate Transport Costs and add to S2F2D"
   ]
  },
  {
   "cell_type": "code",
   "execution_count": 12,
   "metadata": {},
   "outputs": [],
   "source": [
    "# Create new columns for tranportation cost (cost per tonne)\n",
    "S2F2D_FC['Transport_cost_F2D'] = S2F2D_FC['F2D_distance_km']*constantsfile.drivingcost_per_tonnekm\n",
    "S2F2D_FC['Transport_cost_S2F'] = S2F2D_FC['S2F_distance_km']*constantsfile.drivingcost_per_tonnekm\n",
    "\n",
    "# Save S2F2D_FC as CSV file\n",
    "S2F2D_FC.to_csv('S2F2D.csv', index=False)"
   ]
  }
 ],
 "metadata": {
  "kernelspec": {
   "display_name": "base",
   "language": "python",
   "name": "python3"
  },
  "language_info": {
   "codemirror_mode": {
    "name": "ipython",
    "version": 3
   },
   "file_extension": ".py",
   "mimetype": "text/x-python",
   "name": "python",
   "nbconvert_exporter": "python",
   "pygments_lexer": "ipython3",
   "version": "3.10.8"
  },
  "orig_nbformat": 4
 },
 "nbformat": 4,
 "nbformat_minor": 2
}
