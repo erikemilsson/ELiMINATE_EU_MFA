{
 "cells": [
  {
   "cell_type": "markdown",
   "metadata": {},
   "source": [
    "Import Packages"
   ]
  },
  {
   "cell_type": "code",
   "execution_count": 6,
   "metadata": {},
   "outputs": [],
   "source": [
    "# !pip install folium\n",
    "# !pip install pulp\n",
    "# !pip install openpyxl\n",
    "# !pip install geopandas\n",
    "# !pip install kaleido\n",
    "# !python -m pip install global_land_mask\n",
    "import kaleido\n",
    "kaleido.__version__ #0.2.1\n",
    "import pulp #conda install -c conda-forge pulp\n",
    "import numpy as np\n",
    "import pandas as pd #conda install pandas\n",
    "import math\n",
    "import json\n",
    "import geopandas as gpd\n",
    "import folium\n",
    "import plotly.express as px\n",
    "import plotly.graph_objects as go\n",
    "import requests\n",
    "from global_land_mask import globe\n",
    "import time\n",
    "import constants # constants.py"
   ]
  },
  {
   "cell_type": "code",
   "execution_count": 7,
   "metadata": {},
   "outputs": [],
   "source": [
    "# Generate the grid coordinates\n",
    "grid = []\n",
    "for lat in range(int(constants.min_lat), int(constants.max_lat) + 1):\n",
    "    for lon in range(int(constants.min_lon), int(constants.max_lon) + 1):\n",
    "        if globe.is_land(lat, lon):  # check if coordinates are on land\n",
    "            for i in range(int(constants.grid_spacing)):\n",
    "                for j in range(int(constants.grid_spacing)):\n",
    "                    point_lat = lat + i / constants.grid_spacing\n",
    "                    point_lon = lon + j / constants.grid_spacing\n",
    "                    params = { # API to check the country the coordinates are in\n",
    "                        'key': constants.api_key_opencage,\n",
    "                        'q': f\"{point_lat},{point_lon}\",\n",
    "                        'no_annotations': 1\n",
    "                    }\n",
    "                    response = requests.get(constants.base_url_opencage, params=params).json()\n",
    "                    if 'results' in response and len(response['results']) > 0:\n",
    "                        country = response['results'][0]['components']['country']\n",
    "                        grid.append((point_lat, point_lon, country))\n",
    "\n",
    "# Create a DataFrame with the grid coordinates and country information\n",
    "df = pd.DataFrame(grid, columns=['Latitude', 'Longitude', 'Country'])\n",
    "\n",
    "# Reorder the columns\n",
    "df = df[['Country', 'Latitude', 'Longitude']]\n",
    "\n",
    "# Add an index column for the Excel file\n",
    "df = df.reset_index()\n",
    "\n",
    "# Rename the 'index' column\n",
    "df = df.rename(columns={'index': 'Name'})\n",
    "\n",
    "# Replace name of countries so they match the Fixed Cost df\n",
    "df['Country'] = df['Country'].replace('Czechia','Czech Republic')\n",
    "\n",
    "# Add a prefix \"N\" to the Facility name number\n",
    "df['Name'] = 'N' + df['Name'].astype(str)\n",
    "\n",
    "# Save the DataFrame to an Excel file\n",
    "df.to_excel('Facilities.xlsx', index=True)"
   ]
  }
 ],
 "metadata": {
  "kernelspec": {
   "display_name": "base",
   "language": "python",
   "name": "python3"
  },
  "language_info": {
   "codemirror_mode": {
    "name": "ipython",
    "version": 3
   },
   "file_extension": ".py",
   "mimetype": "text/x-python",
   "name": "python",
   "nbconvert_exporter": "python",
   "pygments_lexer": "ipython3",
   "version": "3.10.8"
  },
  "orig_nbformat": 4
 },
 "nbformat": 4,
 "nbformat_minor": 2
}
