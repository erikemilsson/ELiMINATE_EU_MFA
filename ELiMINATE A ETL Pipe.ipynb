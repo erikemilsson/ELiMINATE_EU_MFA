{
 "cells": [
  {
   "cell_type": "markdown",
   "metadata": {},
   "source": [
    "Import Packages (uncomment install lines if necessary)"
   ]
  },
  {
   "cell_type": "code",
   "execution_count": 6,
   "metadata": {},
   "outputs": [],
   "source": [
    "# pip install folium\n",
    "# pip install pulp\n",
    "# pip install openpyxl\n",
    "# pip install geopandas\n",
    "# pip install kaleido\n",
    "# python -m pip install global_land_mask\n",
    "#conda install -c conda-forge pulp\n",
    "import kaleido\n",
    "kaleido.__version__ #0.2.1\n",
    "import pulp \n",
    "import numpy as np\n",
    "import pandas as pd\n",
    "import math\n",
    "import json\n",
    "import geopandas as gpd\n",
    "import folium\n",
    "import plotly.express as px\n",
    "import plotly.graph_objects as go\n",
    "import requests\n",
    "from global_land_mask import globe\n",
    "import time\n",
    "import constants # constants.py"
   ]
  },
  {
   "cell_type": "markdown",
   "metadata": {},
   "source": [
    "Create Facilities.xlsx which is a grid over Europe for all candidate positions of facilities"
   ]
  },
  {
   "cell_type": "code",
   "execution_count": 13,
   "metadata": {},
   "outputs": [
    {
     "data": {
      "text/html": [
       "<div>\n",
       "<style scoped>\n",
       "    .dataframe tbody tr th:only-of-type {\n",
       "        vertical-align: middle;\n",
       "    }\n",
       "\n",
       "    .dataframe tbody tr th {\n",
       "        vertical-align: top;\n",
       "    }\n",
       "\n",
       "    .dataframe thead th {\n",
       "        text-align: right;\n",
       "    }\n",
       "</style>\n",
       "<table border=\"1\" class=\"dataframe\">\n",
       "  <thead>\n",
       "    <tr style=\"text-align: right;\">\n",
       "      <th></th>\n",
       "      <th>Name</th>\n",
       "      <th>Country</th>\n",
       "      <th>Latitude</th>\n",
       "      <th>Longitude</th>\n",
       "    </tr>\n",
       "  </thead>\n",
       "  <tbody>\n",
       "  </tbody>\n",
       "</table>\n",
       "</div>"
      ],
      "text/plain": [
       "Empty DataFrame\n",
       "Columns: [Name, Country, Latitude, Longitude]\n",
       "Index: []"
      ]
     },
     "execution_count": 13,
     "metadata": {},
     "output_type": "execute_result"
    }
   ],
   "source": [
    "# Generate the grid coordinates\n",
    "grid = []\n",
    "for lat in range(int(constants.min_lat), int(constants.max_lat) + 1):\n",
    "    for lon in range(int(constants.min_lon), int(constants.max_lon) + 1):\n",
    "        if globe.is_land(lat, lon):  # Check if coordinates are on land and include if yes\n",
    "            for i in range(int(constants.grid_spacing)):\n",
    "                for j in range(int(constants.grid_spacing)):\n",
    "                    point_lat = lat + i / constants.grid_spacing\n",
    "                    point_lon = lon + j / constants.grid_spacing\n",
    "                    params = { \n",
    "                        'key': constants.api_key_opencage,\n",
    "                        'q': f\"{point_lat},{point_lon}\",\n",
    "                        'no_annotations': 1\n",
    "                    } # API to check the country the coordinates are in\n",
    "                    response = requests.get(constants.base_url_opencage, params=params).json()\n",
    "                    if 'results' in response and len(response['results']) > 0:\n",
    "                        country = response['results'][0]['components']['country']\n",
    "                        grid.append((point_lat, point_lon, country))\n",
    "\n",
    "# Create a DataFrame with the grid coordinates and country information\n",
    "df = pd.DataFrame(grid, columns=['Latitude', 'Longitude', 'Country'])\n",
    "\n",
    "# Reorder the columns\n",
    "df = df[['Country', 'Latitude', 'Longitude']]\n",
    "\n",
    "# Add an index column for the Excel file\n",
    "df = df.reset_index()\n",
    "\n",
    "# Rename the 'index' column\n",
    "df = df.rename(columns={'index': 'Name'})\n",
    "\n",
    "# Replace name of countries so they match the Fixed Cost df\n",
    "df['Country'] = df['Country'].replace('Czechia','Czech Republic')\n",
    "\n",
    "# Add a prefix \"N\" to the Facility name number\n",
    "df['Name'] = 'N' + df['Name'].astype(str)\n",
    "df"
   ]
  },
  {
   "cell_type": "code",
   "execution_count": 17,
   "metadata": {},
   "outputs": [
    {
     "data": {
      "text/plain": [
       "{'documentation': 'https://opencagedata.com/api',\n",
       " 'licenses': [{'name': 'see attribution guide',\n",
       "   'url': 'https://opencagedata.com/credits'}],\n",
       " 'results': [],\n",
       " 'status': {'code': 401, 'message': 'invalid API key'},\n",
       " 'stay_informed': {'blog': 'https://blog.opencagedata.com',\n",
       "  'mastodon': 'https://en.osm.town/@opencage'},\n",
       " 'thanks': 'For using an OpenCage API',\n",
       " 'timestamp': {'created_http': 'Mon, 25 Sep 2023 10:21:56 GMT',\n",
       "  'created_unix': 1695637316},\n",
       " 'total_results': 0}"
      ]
     },
     "execution_count": 17,
     "metadata": {},
     "output_type": "execute_result"
    }
   ],
   "source": [
    "lat = 57.695641429965946\n",
    "lon = 11.968428704531103\n",
    "\n",
    "# Return the country of the coordinates\n",
    "params = { \n",
    "    'key': constants.api_key_opencage,\n",
    "    'q': f\"{lat},{lon}\",\n",
    "    'no_annotations': 1\n",
    "}\n",
    "response = requests.get(constants.base_url_opencage, params=params).json()\n",
    "response\n"
   ]
  },
  {
   "cell_type": "code",
   "execution_count": 18,
   "metadata": {},
   "outputs": [
    {
     "data": {
      "text/plain": [
       "'your_opencage_api'"
      ]
     },
     "execution_count": 18,
     "metadata": {},
     "output_type": "execute_result"
    }
   ],
   "source": [
    "constants.api_key_opencage"
   ]
  }
 ],
 "metadata": {
  "kernelspec": {
   "display_name": "base",
   "language": "python",
   "name": "python3"
  },
  "language_info": {
   "codemirror_mode": {
    "name": "ipython",
    "version": 3
   },
   "file_extension": ".py",
   "mimetype": "text/x-python",
   "name": "python",
   "nbconvert_exporter": "python",
   "pygments_lexer": "ipython3",
   "version": "3.10.8"
  },
  "orig_nbformat": 4
 },
 "nbformat": 4,
 "nbformat_minor": 2
}
