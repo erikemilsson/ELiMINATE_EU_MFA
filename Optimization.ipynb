{
 "cells": [
  {
   "cell_type": "markdown",
   "metadata": {},
   "source": [
    "## Import Libraries and load in the data"
   ]
  },
  {
   "cell_type": "code",
   "execution_count": 1,
   "metadata": {},
   "outputs": [
    {
     "data": {
      "text/plain": [
       "'0.2.1'"
      ]
     },
     "execution_count": 1,
     "metadata": {},
     "output_type": "execute_result"
    }
   ],
   "source": [
    "import numpy as np\n",
    "import pandas as pd\n",
    "import plotly.express as px\n",
    "import constantsfile # constants.py\n",
    "import math\n",
    "from pulp import * #conda install -c conda-forge pulp\n",
    "import kaleido\n",
    "kaleido.__version__ #0.2.1"
   ]
  },
  {
   "cell_type": "code",
   "execution_count": 2,
   "metadata": {},
   "outputs": [],
   "source": [
    "# Load in the S2F2D_FC and Supply_and_Demand data and create the dataframe\n",
    "S2F2D_FC = pd.read_csv('S2F2D.csv')\n",
    "\n",
    "### CREATE FIXED COST DATAFRAME###\n",
    "FC = S2F2D_FC.loc[:,['Demand_name',\n",
    "                     'Demand_tonnes', \n",
    "                     'Facility_name',\n",
    "                     'Supply_name',\n",
    "                     'Supply_tonnes',\n",
    "                     'Fixed_cost',\n",
    "                     'Transport_cost_F2D',\n",
    "                     'Transport_cost_S2F']]"
   ]
  },
  {
   "cell_type": "markdown",
   "metadata": {},
   "source": [
    "## Optimize"
   ]
  },
  {
   "cell_type": "markdown",
   "metadata": {},
   "source": [
    "### Specify number of facilities before running the optimization"
   ]
  },
  {
   "cell_type": "code",
   "execution_count": 3,
   "metadata": {},
   "outputs": [],
   "source": [
    "number_of_facilities = 3\n",
    "\n",
    "# specify facility capacity (done in the constantsfile.py file)\n",
    "total_facility_capacity = constantsfile.Facility"
   ]
  },
  {
   "cell_type": "markdown",
   "metadata": {},
   "source": [
    "### Prepare a copy of the FC dataframe used for the optimization"
   ]
  },
  {
   "cell_type": "code",
   "execution_count": 4,
   "metadata": {},
   "outputs": [],
   "source": [
    "# Make a copy to avoid changing the original data when changing the number of facilities\n",
    "df = FC.copy(deep=True) \n",
    "\n",
    "# Rename some columns for easier reading\n",
    "rename_dict = {\n",
    "    'Demand_name': 'Customer',\n",
    "    'Demand_tonnes': 'Demand',\n",
    "    'Facility_name': 'Facility',\n",
    "    'Supply_name': 'Supplier',\n",
    "    'Supply_tonnes': 'Supply',\n",
    "    }\n",
    "\n",
    "for old_column, new_column in rename_dict.items():\n",
    "    if old_column in df.columns:\n",
    "        df.rename(columns={old_column: new_column}, inplace=True)\n",
    "        \n",
    "# Update the Fixed_cost based on the number of facilities\n",
    "df.loc[:,'Fixed_cost'] = df.loc[:,'Fixed_cost']*( math.sqrt(number_of_facilities) / number_of_facilities)"
   ]
  },
  {
   "cell_type": "markdown",
   "metadata": {},
   "source": [
    "### Turn dataframe data format into the correct form for the solver and perform linear programming optimization"
   ]
  },
  {
   "cell_type": "code",
   "execution_count": 5,
   "metadata": {},
   "outputs": [
    {
     "name": "stderr",
     "output_type": "stream",
     "text": [
      "c:\\Users\\erik3040\\AppData\\Local\\miniconda3\\lib\\site-packages\\pulp\\pulp.py:1352: UserWarning: Spaces are not permitted in the name. Converted to '_'\n",
      "  warnings.warn(\"Spaces are not permitted in the name. Converted to '_'\")\n"
     ]
    },
    {
     "name": "stdout",
     "output_type": "stream",
     "text": [
      "Solution Status =  Infeasible\n",
      "Establish Facility at site = N133\n",
      "Establish Facility at site = N314\n",
      "Establish Facility at site = N358\n",
      "Establish Facility at site = N395\n",
      "Total Cost = 5670543.138636574\n",
      "\n",
      "Suppliers and Facilities with flows greater than zero:\n",
      "Flow from Supplier Vienna to Facility N395 is: 44.96441\n",
      "Flow from Supplier Antwerp to Facility N395 is: 27.13474\n",
      "Flow from Supplier Sofia to Facility N395 is: 108.10191\n",
      "Flow from Supplier Zagreb to Facility N395 is: 188.81972\n",
      "Flow from Supplier Prague to Facility N395 is: 154.9621\n",
      "Flow from Supplier Copenhagen to Facility N395 is: 44.500466\n",
      "Flow from Supplier Tallinn to Facility N395 is: 102.68447\n",
      "Flow from Supplier Helsinki to Facility N395 is: 2.1361548\n",
      "Flow from Supplier Paris to Facility N395 is: 196.25659\n",
      "Flow from Supplier Marseille to Facility N395 is: 144.24976\n",
      "Flow from Supplier Berlin to Facility N395 is: 179.26618\n",
      "Flow from Supplier Cologne to Facility N395 is: 111.99353\n",
      "Flow from Supplier Düsseldorf to Facility N395 is: 17.582107\n",
      "Flow from Supplier Munich to Facility N395 is: 19.601364\n",
      "Flow from Supplier Frankfurt am Main to Facility N395 is: 192.9622\n",
      "Flow from Supplier Stuttgart to Facility N395 is: 165.11025\n",
      "Flow from Supplier Leipzig to Facility N395 is: 91.25275\n",
      "Flow from Supplier Dortmund to Facility N395 is: 154.54222\n",
      "Flow from Supplier Essen to Facility N395 is: 35.232308\n",
      "Flow from Supplier Hanover to Facility N395 is: 26.026019\n",
      "Flow from Supplier Nuremberg to Facility N395 is: 48.277984\n",
      "Flow from Supplier Dresden to Facility N395 is: 58.506433\n",
      "Flow from Supplier Hamburg to Facility N395 is: 173.41812\n",
      "Flow from Supplier Bremen to Facility N395 is: 198.26226\n",
      "Flow from Supplier Athens to Facility N395 is: 177.94003\n",
      "Flow from Supplier Budapest to Facility N395 is: 182.2788\n",
      "Flow from Supplier Rome to Facility N395 is: 82.360009\n",
      "Flow from Supplier Milan to Facility N395 is: 79.328308\n",
      "Flow from Supplier Naples to Facility N395 is: 64.5281\n",
      "Flow from Supplier Turin to Facility N395 is: 4.2259571\n",
      "Flow from Supplier Palermo to Facility N395 is: 112.70656\n",
      "Flow from Supplier Genoa to Facility N395 is: 137.96335\n",
      "Flow from Supplier Riga to Facility N395 is: 61.343877\n",
      "Flow from Supplier Vaduz to Facility N395 is: 148.35869\n",
      "Flow from Supplier Vilnius to Facility N395 is: 29.438069\n",
      "Flow from Supplier Luxembourg to Facility N395 is: 168.3516\n",
      "Flow from Supplier Amsterdam to Facility N395 is: 80.677946\n",
      "Flow from Supplier Rotterdam to Facility N395 is: 32.459898\n",
      "Flow from Supplier The Hague to Facility N395 is: 66.045229\n",
      "Flow from Supplier Oslo to Facility N395 is: 199.29491\n",
      "Flow from Supplier Warsaw to Facility N395 is: 28.694433\n",
      "Flow from Supplier Krakow to Facility N395 is: 117.77729\n",
      "Flow from Supplier Łódź to Facility N395 is: 148.90218\n",
      "Flow from Supplier Wrocław to Facility N395 is: 175.5195\n",
      "Flow from Supplier Poznań to Facility N395 is: 186.03215\n",
      "Flow from Supplier Lisbon to Facility N395 is: 37.082772\n",
      "Flow from Supplier Bucharest to Facility N395 is: 99.973072\n",
      "Flow from Supplier Belgrade to Facility N395 is: 57.362167\n",
      "Flow from Supplier Bratislava to Facility N395 is: 131.99765\n",
      "Flow from Supplier Ljublana to Facility N395 is: 41.887405\n",
      "Flow from Supplier Madrid to Facility N395 is: 179.21645\n",
      "Flow from Supplier Barcelona to Facility N395 is: 142.30237\n",
      "Flow from Supplier Seville to Facility N395 is: 101.7726\n",
      "Flow from Supplier Zaragoza to Facility N395 is: 127.63425\n",
      "Flow from Supplier Málaga to Facility N395 is: 168.15857\n",
      "Flow from Supplier Stockholm to Facility N395 is: 113.09539\n",
      "Flow from Supplier Gothenburg to Facility N395 is: 75.89227\n",
      "Flow from Supplier Zürich to Facility N395 is: 25.062923\n",
      "\n",
      "Facilities and Customers with flows greater than zero:\n",
      "Flow from Facility N133 to Customer Customcells is: 26817.491\n",
      "Flow from Facility N314 to Customer Freyr Battery (Giga Vaasa) is: 100.0\n",
      "Flow from Facility N314 to Customer Verkor is: 50.0\n",
      "Flow from Facility N314 to Customer ACC (Stellantis/Saft) is: 40.0\n",
      "Flow from Facility N314 to Customer Envision AESC is: 30.0\n",
      "Flow from Facility N314 to Customer Customcells is: 31259.2\n",
      "Flow from Facility N314 to Customer CATL is: 100.0\n",
      "Flow from Facility N314 to Customer Tesla Gigafactory Berlin-Brandenburg is: 200.0\n",
      "Flow from Facility N314 to Customer Nortvolt Drei is: 60.0\n",
      "Flow from Facility N314 to Customer SVOLT is: 24.0\n",
      "Flow from Facility N314 to Customer Microvast is: 6.0\n",
      "Flow from Facility N314 to Customer Leclanché is: 2.5\n",
      "Flow from Facility N314 to Customer PowerCo SalzGiga (Volkswagen) is: 40.0\n",
      "Flow from Facility N314 to Customer BMW is: 20.0\n",
      "Flow from Facility N314 to Customer Cellforce is: 14.0\n",
      "Flow from Facility N314 to Customer Blackstone Resources is: 4.0\n",
      "Flow from Facility N314 to Customer UniverCell is: 10.0\n",
      "Flow from Facility N314 to Customer SK Innovation is: 77.3\n",
      "Flow from Facility N314 to Customer Samsung Göd is: 40.0\n",
      "Flow from Facility N314 to Customer CATL Debrecen is: 100.0\n",
      "Flow from Facility N314 to Customer Italvolt is: 45.0\n",
      "Flow from Facility N314 to Customer ACC is: 40.0\n",
      "Flow from Facility N314 to Customer FAAM is: 8.0\n",
      "Flow from Facility N314 to Customer Eurocell is: 7.0\n",
      "Flow from Facility N314 to Customer Morrow is: 32.0\n",
      "Flow from Facility N314 to Customer Beyonder is: 10.0\n",
      "Flow from Facility N314 to Customer Freyr (Mo i Rana) is: 100.0\n",
      "Flow from Facility N314 to Customer LG Energy Solution is: 115.0\n",
      "Flow from Facility N314 to Customer CALB is: 45.0\n",
      "Flow from Facility N314 to Customer ElevenEs is: 16.0\n",
      "Flow from Facility N314 to Customer Inobat is: 32.0\n",
      "Flow from Facility N314 to Customer InoBat is: 10.0\n",
      "Flow from Facility N314 to Customer Gigafactory Valencia: PowerCo (Volkswagen) is: 40.0\n",
      "Flow from Facility N314 to Customer Phi4tech is: 20.0\n",
      "Flow from Facility N314 to Customer Northvolt Ett is: 60.0\n",
      "Flow from Facility N314 to Customer Northvolt–Volvo Cars is: 50.0\n",
      "Flow from Facility N314 to Customer Rosatom is: 12.0\n",
      "Flow from Facility N314 to Customer AMTE Power is: 10.0\n",
      "Flow from Facility N314 to Customer West Midlands is: 60.0\n",
      "Flow from Facility N358 to Customer Customcells is: 32879.0\n",
      "Flow from Facility N358 to Customer Basquevolt is: 10.0\n"
     ]
    }
   ],
   "source": [
    "# Extract actor node dictionaries\n",
    "Supplier = df['Supplier'].unique().tolist()\n",
    "Facility = df['Facility'].unique().tolist()\n",
    "Customer = df['Customer'].unique().tolist()\n",
    "\n",
    "# Extract capacities dictionaries\n",
    "supplier_supply = df.groupby('Supplier')['Supply'].first().to_dict()\n",
    "facility_capacity = total_facility_capacity/number_of_facilities # constant for each facility\n",
    "customer_demand = df.groupby('Customer')['Demand'].first().to_dict()\n",
    "\n",
    "# Extract fixed_cost dictionary\n",
    "fixed_cost = df.groupby('Facility')['Fixed_cost'].first().to_dict()\n",
    "\n",
    "# Create dictionaries for transportation costs\n",
    "transportation_cost_S2F = {(a, b): c for a, b, c in df[['Supplier', 'Facility', 'Transport_cost_F2D']].values}\n",
    "transportation_cost_F2D = {(a, b): c for a, b, c in df[['Facility', 'Customer', 'Transport_cost_S2F']].values}\n",
    "\n",
    "# Setting the Problem\n",
    "prob = LpProblem(\"Capacitated Facility Location Problem\", LpMinimize)\n",
    "\n",
    "# Defining our Decision Variables\n",
    "x = LpVariable.dicts(\"X\", ((i,j) for i in Supplier for j in Facility), lowBound=0, cat='Continuous') # Supplier-facility flow [tonnes]\n",
    "y = LpVariable.dicts(\"Y\", Facility, lowBound=0, upBound=1, cat='Integer') # Facility [0 (inactive) or 1 (active)]\n",
    "z = LpVariable.dicts(\"Z\", ((j, k) for j in Facility for k in Customer), lowBound=0, cat='Continuous') # Facility-customer flow [tonnes]\n",
    "\n",
    "# OBJECTIVE FUNCTION\n",
    "\n",
    "prob += (lpSum([transportation_cost_S2F[i, j] * x[i, j] for i in Supplier for j in Facility]) +\n",
    "          lpSum([transportation_cost_F2D[j, k] * z[j, k] for j in Facility for k in Customer]) +\n",
    "          lpSum([fixed_cost[j] * y[j] for j in Facility]))\n",
    "\n",
    "# CONSTRAINTS\n",
    "\n",
    "# Set number of facilities to use\n",
    "prob += lpSum(y[j] for j in Facility) == number_of_facilities\n",
    "\n",
    "# Specify maximum volumes each supplier and customer can handle to all facilities\n",
    "for i in Supplier:\n",
    "    prob += lpSum(x[i, j] for j in Facility) <= supplier_supply[i]\n",
    "for k in Customer:\n",
    "    prob += lpSum(z[j, k] for j in Facility) <= customer_demand[k]\n",
    "\n",
    "# Only open Facility allows Customer and Supplier flows\n",
    "for i in Supplier:\n",
    "    for j in Facility:\n",
    "        prob += x[i, j] <= facility_capacity * y[j]\n",
    "for j in Facility:\n",
    "    for k in Customer:\n",
    "        prob += z[j, k] <= facility_capacity * y[j]\n",
    "\n",
    "# The sum of the flows to/from each facilities is equal to its capacity, also indirectly conservation of flow\n",
    "for j in Facility:\n",
    "    prob += lpSum(x[i, j] for i in Supplier) == facility_capacity * y[j]\n",
    "    prob += lpSum(z[j, k] for k in Customer) == facility_capacity * y[j]\n",
    "\n",
    "prob.solve()\n",
    "\n",
    "print(\"Solution Status = \", LpStatus[prob.status])\n",
    "\n",
    "# Print the solution of Binary Decision Variables\n",
    "Tolerance = 0.00001\n",
    "for j in Facility:\n",
    "    if y[j].varValue > Tolerance:\n",
    "        print(\"Establish Facility at site =\", j)\n",
    "\n",
    "# # Print the solution of Continuous Decision Variables\n",
    "# for v in prob.variables():\n",
    "#     print(v.name, \"=\", v.varValue)\n",
    "\n",
    "# Print Optimal\n",
    "print(\"Total Cost =\", value(prob.objective))\n",
    "\n",
    "# Check flows, print results and append to lists\n",
    "S = []\n",
    "F =[]\n",
    "D = []\n",
    "flow = []\n",
    "\n",
    "print(\"\\nSuppliers and Facilities with flows greater than zero:\")\n",
    "for i in Supplier:\n",
    "    for j in Facility:\n",
    "        if x[i, j].varValue > Tolerance:  # checking if flow is more than a small tolerance\n",
    "            print(f\"Flow from Supplier {i} to Facility {j} is: {x[i, j].varValue}\")\n",
    "            S.append(str(i))\n",
    "            F.append(str(j))\n",
    "            D.append(None)\n",
    "            flow.append(x[i, j].varValue)\n",
    "\n",
    "print(\"\\nFacilities and Customers with flows greater than zero:\")\n",
    "for j in Facility:\n",
    "    for k in Customer:\n",
    "        if z[j, k].varValue > Tolerance:  # checking if flow is more than a small tolerance\n",
    "            print(f\"Flow from Facility {j} to Customer {k} is: {z[j, k].varValue}\")\n",
    "            S.append(None)\n",
    "            F.append(str(j))\n",
    "            D.append(str(k))\n",
    "            flow.append(x[i, j].varValue)\n",
    "            \n",
    "# Create a new DataFrame from site, facility, and flow and save to csv file\n",
    "optimization_results_df = pd.DataFrame({'Supplier': S, 'Facility': F, 'Customer': D, 'Flow': flow})\n",
    "optimization_results_df.to_csv('optimization_results.csv', index=False)"
   ]
  },
  {
   "cell_type": "markdown",
   "metadata": {},
   "source": [
    "# Visualize the result\n",
    "\n",
    "by creating a new dataframe from the optimization results and merge selected nodes to the coordinates from the S2F2D dataframe"
   ]
  },
  {
   "cell_type": "code",
   "execution_count": 6,
   "metadata": {},
   "outputs": [],
   "source": [
    "# For the visualization Create a new dataframe with a column of unique instances of supplier, faciliy and customer from the optimization_results dataframe\n",
    "\n",
    "# Unpivot the DataFrame\n",
    "unpivoted_df = pd.melt(optimization_results_df, \n",
    "                       id_vars=[], \n",
    "                       value_vars=['Supplier', \n",
    "                                   'Facility', \n",
    "                                   'Customer'], \n",
    "                       var_name='Type', \n",
    "                       value_name='Name')\n",
    "\n",
    "# Remove duplicates and None values\n",
    "unpivoted_df = unpivoted_df.drop_duplicates().dropna().reset_index(drop=True)"
   ]
  },
  {
   "cell_type": "markdown",
   "metadata": {},
   "source": [
    "Match the results dataframe (unpivoted_df) to the coordinates for each node in the S2F2D_FC dataframe"
   ]
  },
  {
   "cell_type": "code",
   "execution_count": 7,
   "metadata": {},
   "outputs": [
    {
     "data": {
      "text/html": [
       "<div>\n",
       "<style scoped>\n",
       "    .dataframe tbody tr th:only-of-type {\n",
       "        vertical-align: middle;\n",
       "    }\n",
       "\n",
       "    .dataframe tbody tr th {\n",
       "        vertical-align: top;\n",
       "    }\n",
       "\n",
       "    .dataframe thead th {\n",
       "        text-align: right;\n",
       "    }\n",
       "</style>\n",
       "<table border=\"1\" class=\"dataframe\">\n",
       "  <thead>\n",
       "    <tr style=\"text-align: right;\">\n",
       "      <th></th>\n",
       "      <th>Type</th>\n",
       "      <th>Name</th>\n",
       "      <th>Latitude</th>\n",
       "      <th>Longitude</th>\n",
       "    </tr>\n",
       "  </thead>\n",
       "  <tbody>\n",
       "    <tr>\n",
       "      <th>0</th>\n",
       "      <td>Supplier</td>\n",
       "      <td>Vienna</td>\n",
       "      <td>48.212196</td>\n",
       "      <td>16.376599</td>\n",
       "    </tr>\n",
       "    <tr>\n",
       "      <th>1</th>\n",
       "      <td>Supplier</td>\n",
       "      <td>Antwerp</td>\n",
       "      <td>51.212183</td>\n",
       "      <td>4.408770</td>\n",
       "    </tr>\n",
       "    <tr>\n",
       "      <th>2</th>\n",
       "      <td>Supplier</td>\n",
       "      <td>Sofia</td>\n",
       "      <td>42.696672</td>\n",
       "      <td>23.334975</td>\n",
       "    </tr>\n",
       "    <tr>\n",
       "      <th>3</th>\n",
       "      <td>Supplier</td>\n",
       "      <td>Zagreb</td>\n",
       "      <td>45.794975</td>\n",
       "      <td>15.979962</td>\n",
       "    </tr>\n",
       "    <tr>\n",
       "      <th>4</th>\n",
       "      <td>Supplier</td>\n",
       "      <td>Prague</td>\n",
       "      <td>50.075665</td>\n",
       "      <td>14.430168</td>\n",
       "    </tr>\n",
       "    <tr>\n",
       "      <th>...</th>\n",
       "      <td>...</td>\n",
       "      <td>...</td>\n",
       "      <td>...</td>\n",
       "      <td>...</td>\n",
       "    </tr>\n",
       "    <tr>\n",
       "      <th>99</th>\n",
       "      <td>Customer</td>\n",
       "      <td>Northvolt–Volvo Cars</td>\n",
       "      <td>57.711823</td>\n",
       "      <td>11.931610</td>\n",
       "    </tr>\n",
       "    <tr>\n",
       "      <th>100</th>\n",
       "      <td>Customer</td>\n",
       "      <td>Rosatom</td>\n",
       "      <td>54.646200</td>\n",
       "      <td>20.545089</td>\n",
       "    </tr>\n",
       "    <tr>\n",
       "      <th>101</th>\n",
       "      <td>Customer</td>\n",
       "      <td>AMTE Power</td>\n",
       "      <td>56.480303</td>\n",
       "      <td>-2.952726</td>\n",
       "    </tr>\n",
       "    <tr>\n",
       "      <th>102</th>\n",
       "      <td>Customer</td>\n",
       "      <td>West Midlands</td>\n",
       "      <td>52.377769</td>\n",
       "      <td>-1.500484</td>\n",
       "    </tr>\n",
       "    <tr>\n",
       "      <th>103</th>\n",
       "      <td>Customer</td>\n",
       "      <td>Basquevolt</td>\n",
       "      <td>42.926354</td>\n",
       "      <td>-2.644298</td>\n",
       "    </tr>\n",
       "  </tbody>\n",
       "</table>\n",
       "<p>104 rows × 4 columns</p>\n",
       "</div>"
      ],
      "text/plain": [
       "         Type                  Name   Latitude  Longitude\n",
       "0    Supplier                Vienna  48.212196  16.376599\n",
       "1    Supplier               Antwerp  51.212183   4.408770\n",
       "2    Supplier                 Sofia  42.696672  23.334975\n",
       "3    Supplier                Zagreb  45.794975  15.979962\n",
       "4    Supplier                Prague  50.075665  14.430168\n",
       "..        ...                   ...        ...        ...\n",
       "99   Customer  Northvolt–Volvo Cars  57.711823  11.931610\n",
       "100  Customer               Rosatom  54.646200  20.545089\n",
       "101  Customer            AMTE Power  56.480303  -2.952726\n",
       "102  Customer         West Midlands  52.377769  -1.500484\n",
       "103  Customer            Basquevolt  42.926354  -2.644298\n",
       "\n",
       "[104 rows x 4 columns]"
      ]
     },
     "execution_count": 7,
     "metadata": {},
     "output_type": "execute_result"
    }
   ],
   "source": [
    "# Get unique coordinates for all the nodes in the S2F2D_FC dataframe\n",
    "unique_demand_coordinates = S2F2D_FC[['Demand_name', 'Demand_latitude', 'Demand_longitude']].drop_duplicates().reset_index(drop=True)\n",
    "unique_supply_coordinates = S2F2D_FC[['Supply_name', 'Supply_latitude', 'Supply_longitude']].drop_duplicates().reset_index(drop=True)\n",
    "unique_facility_coordinates = S2F2D_FC[['Facility_name', 'Facility_latitude', 'Facility_longitude']].drop_duplicates().reset_index(drop=True)\n",
    "\n",
    "# Rename the columns to match the unpivoted_df_merged dataframe\n",
    "unique_demand_coordinates.rename(columns={'Demand_name': 'Name',\n",
    "                                          'Demand_latitude': 'Latitude',\n",
    "                                          'Demand_longitude': 'Longitude'}, inplace=True)\n",
    "\n",
    "unique_supply_coordinates.rename(columns={'Supply_name': 'Name',\n",
    "                                            'Supply_latitude': 'Latitude',\n",
    "                                            'Supply_longitude': 'Longitude'}, inplace=True)\n",
    "\n",
    "unique_facility_coordinates.rename(columns={'Facility_name': 'Name',\n",
    "                                            'Facility_latitude': 'Latitude',\n",
    "                                            'Facility_longitude': 'Longitude'}, inplace=True)\n",
    "\n",
    "# Add a new columnn to the unique_demand_coordinates dataframes to indicate the type of node\n",
    "unique_demand_coordinates['Type'] = 'Customer'\n",
    "unique_supply_coordinates['Type'] = 'Supplier'\n",
    "unique_facility_coordinates['Type'] = 'Facility'\n",
    "\n",
    "# Merge the unique_demand_coordinates, unique_supply_coordinates, and unique_facility_coordinates dataframes\n",
    "unique_all_coordinates = pd.concat([unique_demand_coordinates, unique_supply_coordinates, unique_facility_coordinates], ignore_index=True)\n",
    "\n",
    "# Merge the unpivoted_df and unpivoted_df_merged dataframes\n",
    "unpivoted_df_merged = pd.merge(unpivoted_df, unique_all_coordinates, how='left', on=['Name', 'Type'])\n",
    "unpivoted_df_merged"
   ]
  },
  {
   "cell_type": "markdown",
   "metadata": {},
   "source": [
    "Adjust marker size"
   ]
  },
  {
   "cell_type": "code",
   "execution_count": 8,
   "metadata": {},
   "outputs": [],
   "source": [
    "category_to_size = {\n",
    "    'Facility': 50,\n",
    "    'Supplier': 10,\n",
    "    'Customer': 20,\n",
    "}\n",
    "\n",
    "unpivoted_df_merged['marker_size'] = unpivoted_df_merged['Type'].map(category_to_size)"
   ]
  },
  {
   "cell_type": "markdown",
   "metadata": {},
   "source": [
    "Display results in figure"
   ]
  },
  {
   "cell_type": "code",
   "execution_count": 9,
   "metadata": {},
   "outputs": [
    {
     "data": {
      "application/vnd.plotly.v1+json": {
       "config": {
        "plotlyServerURL": "https://plot.ly"
       },
       "data": [
        {
         "hovertemplate": "Type=Supplier<br>marker_size=%{marker.size}<br>Latitude=%{lat}<br>Longitude=%{lon}<extra></extra>",
         "lat": [
          48.21219552,
          51.21218312,
          42.6966725,
          45.79497465,
          50.0756649,
          55.67110276,
          59.42419703,
          60.22303213,
          48.79637185,
          43.34048347,
          52.46975637,
          50.94073707,
          51.21517785,
          48.14076689,
          50.11494995,
          48.80947666,
          51.34408823,
          51.49898287,
          51.45491743,
          52.34593854,
          49.42806214,
          51.00800362,
          53.54925606,
          53.11652119,
          38.04116109,
          47.46622623,
          41.95803158,
          45.51601106,
          40.84840002,
          44.97099232,
          38.09367447,
          44.43275263,
          56.84630921,
          47.15543221,
          54.66879513,
          49.81903764,
          52.33869339,
          51.95075027,
          52.06228993,
          59.90202837,
          52.13880564,
          50.08629452,
          51.72682801,
          51.16567709,
          52.35058217,
          38.72320526,
          44.42885094,
          44.79776245,
          48.13098303,
          46.01379786,
          40.39491229,
          41.44963044,
          37.37172976,
          41.6799069,
          36.71306733,
          59.30190765,
          57.69772574,
          47.41204621
         ],
         "legendgroup": "Supplier",
         "lon": [
          16.37659903,
          4.408770295,
          23.33497505,
          15.97996172,
          14.43016804,
          12.577485,
          24.7861544,
          24.9085641,
          2.344447532,
          5.376756833,
          13.38552309,
          6.938699112,
          6.801462963,
          11.53464567,
          8.670901159,
          9.184137439,
          12.37026562,
          7.46906929,
          7.043338947,
          9.718802419,
          11.06311724,
          13.72864468,
          9.900617565,
          8.81227831,
          23.80382439,
          19.01613305,
          12.57990682,
          9.120360751,
          14.31399795,
          7.702444574,
          13.33917937,
          8.96068049,
          24.39618709,
          9.510356931,
          25.2375731,
          6.09836397,
          4.842158161,
          4.52945701,
          4.375340573,
          10.78129293,
          20.9892915,
          19.95495591,
          19.44777737,
          17.02806393,
          16.76019218,
          -9.175560443,
          26.10398193,
          20.45058388,
          17.13001534,
          14.55725331,
          -3.70466513,
          2.198489964,
          -6.015618352,
          -0.8775916246,
          -4.457762135,
          18.02080784,
          11.99554222,
          8.574376947
         ],
         "marker": {
          "color": "#5ba300",
          "opacity": 0.8,
          "size": [
           10,
           10,
           10,
           10,
           10,
           10,
           10,
           10,
           10,
           10,
           10,
           10,
           10,
           10,
           10,
           10,
           10,
           10,
           10,
           10,
           10,
           10,
           10,
           10,
           10,
           10,
           10,
           10,
           10,
           10,
           10,
           10,
           10,
           10,
           10,
           10,
           10,
           10,
           10,
           10,
           10,
           10,
           10,
           10,
           10,
           10,
           10,
           10,
           10,
           10,
           10,
           10,
           10,
           10,
           10,
           10,
           10,
           10
          ],
          "sizemode": "area",
          "sizeref": 0.125
         },
         "mode": "markers",
         "name": "Supplier",
         "showlegend": true,
         "subplot": "mapbox",
         "type": "scattermapbox"
        },
        {
         "hovertemplate": "Type=Facility<br>marker_size=%{marker.size}<br>Latitude=%{lat}<br>Longitude=%{lon}<extra></extra>",
         "lat": [
          49,
          41,
          47,
          48
         ],
         "legendgroup": "Facility",
         "lon": [
          4,
          9,
          8,
          9
         ],
         "marker": {
          "color": "#000000",
          "opacity": 0.8,
          "size": [
           50,
           50,
           50,
           50
          ],
          "sizemode": "area",
          "sizeref": 0.125
         },
         "mode": "markers",
         "name": "Facility",
         "showlegend": true,
         "subplot": "mapbox",
         "type": "scattermapbox"
        },
        {
         "hovertemplate": "Type=Customer<br>marker_size=%{marker.size}<br>Latitude=%{lat}<br>Longitude=%{lon}<extra></extra>",
         "lat": [
          53.9333738,
          63.10211148,
          51.02951098,
          49.45603248,
          49.44787547,
          50.35657793,
          39.88996137,
          54.90680498,
          51.0244821,
          52.42230936,
          54.18965477,
          52.35050156,
          52.40161274,
          48.5349937,
          52.15029808,
          48.79164329,
          48.51288653,
          51.11070352,
          54.25047193,
          47.74305073,
          47.68212956,
          47.53728246,
          45.12970506,
          41.9948836,
          41.01053586,
          52.3283333,
          58.47364969,
          58.96160749,
          66.32013127,
          51.08609166,
          37.99813176,
          46.10657086,
          44.05111374,
          48.30821158,
          39.67643271,
          39.96766573,
          64.7531286,
          57.71182349,
          54.64619959,
          56.480303,
          52.37776907,
          42.92635362
         ],
         "legendgroup": "Customer",
         "lon": [
          9.482168789,
          21.64148423,
          2.372810694,
          7.748189332,
          7.704160679,
          3.047599944,
          -5.512659564,
          -1.39088216,
          10.97583348,
          13.78568099,
          9.046323262,
          12.59913339,
          12.59063206,
          7.934903367,
          10.35919028,
          12.83515782,
          9.075136952,
          13.17887359,
          10.02740727,
          18.11894637,
          19.17416715,
          21.6382071,
          7.694889422,
          14.98120429,
          14.1918837,
          4.913409613,
          8.743842819,
          5.727296269,
          14.17097432,
          17.01168446,
          -8.751229708,
          19.7944753,
          20.97014905,
          17.55925319,
          -0.2716005472,
          -3.436823644,
          20.96157515,
          11.9316096,
          20.54508867,
          -2.952725981,
          -1.500483731,
          -2.64429758
         ],
         "marker": {
          "color": "#e6308a",
          "opacity": 0.8,
          "size": [
           20,
           20,
           20,
           20,
           20,
           20,
           20,
           20,
           20,
           20,
           20,
           20,
           20,
           20,
           20,
           20,
           20,
           20,
           20,
           20,
           20,
           20,
           20,
           20,
           20,
           20,
           20,
           20,
           20,
           20,
           20,
           20,
           20,
           20,
           20,
           20,
           20,
           20,
           20,
           20,
           20,
           20
          ],
          "sizemode": "area",
          "sizeref": 0.125
         },
         "mode": "markers",
         "name": "Customer",
         "showlegend": true,
         "subplot": "mapbox",
         "type": "scattermapbox"
        }
       ],
       "layout": {
        "height": 600,
        "legend": {
         "itemsizing": "constant",
         "title": {
          "text": "Type"
         },
         "tracegroupgap": 0
        },
        "mapbox": {
         "accesstoken": "pk.eyJ1IjoiZXJpa2VtaWxzc29uaXZsIiwiYSI6ImNsaW9ndmt5MzBmcmMzcHBjaDAwNG9lZTAifQ.v2B76LSmMgJT29Gi5IwJiw",
         "center": {
          "lat": 56,
          "lon": 15
         },
         "domain": {
          "x": [
           0,
           1
          ],
          "y": [
           0,
           1
          ]
         },
         "style": "light",
         "zoom": 2.3
        },
        "margin": {
         "t": 60
        },
        "showlegend": false,
        "template": {
         "data": {
          "bar": [
           {
            "error_x": {
             "color": "#2a3f5f"
            },
            "error_y": {
             "color": "#2a3f5f"
            },
            "marker": {
             "line": {
              "color": "#E5ECF6",
              "width": 0.5
             },
             "pattern": {
              "fillmode": "overlay",
              "size": 10,
              "solidity": 0.2
             }
            },
            "type": "bar"
           }
          ],
          "barpolar": [
           {
            "marker": {
             "line": {
              "color": "#E5ECF6",
              "width": 0.5
             },
             "pattern": {
              "fillmode": "overlay",
              "size": 10,
              "solidity": 0.2
             }
            },
            "type": "barpolar"
           }
          ],
          "carpet": [
           {
            "aaxis": {
             "endlinecolor": "#2a3f5f",
             "gridcolor": "white",
             "linecolor": "white",
             "minorgridcolor": "white",
             "startlinecolor": "#2a3f5f"
            },
            "baxis": {
             "endlinecolor": "#2a3f5f",
             "gridcolor": "white",
             "linecolor": "white",
             "minorgridcolor": "white",
             "startlinecolor": "#2a3f5f"
            },
            "type": "carpet"
           }
          ],
          "choropleth": [
           {
            "colorbar": {
             "outlinewidth": 0,
             "ticks": ""
            },
            "type": "choropleth"
           }
          ],
          "contour": [
           {
            "colorbar": {
             "outlinewidth": 0,
             "ticks": ""
            },
            "colorscale": [
             [
              0,
              "#0d0887"
             ],
             [
              0.1111111111111111,
              "#46039f"
             ],
             [
              0.2222222222222222,
              "#7201a8"
             ],
             [
              0.3333333333333333,
              "#9c179e"
             ],
             [
              0.4444444444444444,
              "#bd3786"
             ],
             [
              0.5555555555555556,
              "#d8576b"
             ],
             [
              0.6666666666666666,
              "#ed7953"
             ],
             [
              0.7777777777777778,
              "#fb9f3a"
             ],
             [
              0.8888888888888888,
              "#fdca26"
             ],
             [
              1,
              "#f0f921"
             ]
            ],
            "type": "contour"
           }
          ],
          "contourcarpet": [
           {
            "colorbar": {
             "outlinewidth": 0,
             "ticks": ""
            },
            "type": "contourcarpet"
           }
          ],
          "heatmap": [
           {
            "colorbar": {
             "outlinewidth": 0,
             "ticks": ""
            },
            "colorscale": [
             [
              0,
              "#0d0887"
             ],
             [
              0.1111111111111111,
              "#46039f"
             ],
             [
              0.2222222222222222,
              "#7201a8"
             ],
             [
              0.3333333333333333,
              "#9c179e"
             ],
             [
              0.4444444444444444,
              "#bd3786"
             ],
             [
              0.5555555555555556,
              "#d8576b"
             ],
             [
              0.6666666666666666,
              "#ed7953"
             ],
             [
              0.7777777777777778,
              "#fb9f3a"
             ],
             [
              0.8888888888888888,
              "#fdca26"
             ],
             [
              1,
              "#f0f921"
             ]
            ],
            "type": "heatmap"
           }
          ],
          "heatmapgl": [
           {
            "colorbar": {
             "outlinewidth": 0,
             "ticks": ""
            },
            "colorscale": [
             [
              0,
              "#0d0887"
             ],
             [
              0.1111111111111111,
              "#46039f"
             ],
             [
              0.2222222222222222,
              "#7201a8"
             ],
             [
              0.3333333333333333,
              "#9c179e"
             ],
             [
              0.4444444444444444,
              "#bd3786"
             ],
             [
              0.5555555555555556,
              "#d8576b"
             ],
             [
              0.6666666666666666,
              "#ed7953"
             ],
             [
              0.7777777777777778,
              "#fb9f3a"
             ],
             [
              0.8888888888888888,
              "#fdca26"
             ],
             [
              1,
              "#f0f921"
             ]
            ],
            "type": "heatmapgl"
           }
          ],
          "histogram": [
           {
            "marker": {
             "pattern": {
              "fillmode": "overlay",
              "size": 10,
              "solidity": 0.2
             }
            },
            "type": "histogram"
           }
          ],
          "histogram2d": [
           {
            "colorbar": {
             "outlinewidth": 0,
             "ticks": ""
            },
            "colorscale": [
             [
              0,
              "#0d0887"
             ],
             [
              0.1111111111111111,
              "#46039f"
             ],
             [
              0.2222222222222222,
              "#7201a8"
             ],
             [
              0.3333333333333333,
              "#9c179e"
             ],
             [
              0.4444444444444444,
              "#bd3786"
             ],
             [
              0.5555555555555556,
              "#d8576b"
             ],
             [
              0.6666666666666666,
              "#ed7953"
             ],
             [
              0.7777777777777778,
              "#fb9f3a"
             ],
             [
              0.8888888888888888,
              "#fdca26"
             ],
             [
              1,
              "#f0f921"
             ]
            ],
            "type": "histogram2d"
           }
          ],
          "histogram2dcontour": [
           {
            "colorbar": {
             "outlinewidth": 0,
             "ticks": ""
            },
            "colorscale": [
             [
              0,
              "#0d0887"
             ],
             [
              0.1111111111111111,
              "#46039f"
             ],
             [
              0.2222222222222222,
              "#7201a8"
             ],
             [
              0.3333333333333333,
              "#9c179e"
             ],
             [
              0.4444444444444444,
              "#bd3786"
             ],
             [
              0.5555555555555556,
              "#d8576b"
             ],
             [
              0.6666666666666666,
              "#ed7953"
             ],
             [
              0.7777777777777778,
              "#fb9f3a"
             ],
             [
              0.8888888888888888,
              "#fdca26"
             ],
             [
              1,
              "#f0f921"
             ]
            ],
            "type": "histogram2dcontour"
           }
          ],
          "mesh3d": [
           {
            "colorbar": {
             "outlinewidth": 0,
             "ticks": ""
            },
            "type": "mesh3d"
           }
          ],
          "parcoords": [
           {
            "line": {
             "colorbar": {
              "outlinewidth": 0,
              "ticks": ""
             }
            },
            "type": "parcoords"
           }
          ],
          "pie": [
           {
            "automargin": true,
            "type": "pie"
           }
          ],
          "scatter": [
           {
            "fillpattern": {
             "fillmode": "overlay",
             "size": 10,
             "solidity": 0.2
            },
            "type": "scatter"
           }
          ],
          "scatter3d": [
           {
            "line": {
             "colorbar": {
              "outlinewidth": 0,
              "ticks": ""
             }
            },
            "marker": {
             "colorbar": {
              "outlinewidth": 0,
              "ticks": ""
             }
            },
            "type": "scatter3d"
           }
          ],
          "scattercarpet": [
           {
            "marker": {
             "colorbar": {
              "outlinewidth": 0,
              "ticks": ""
             }
            },
            "type": "scattercarpet"
           }
          ],
          "scattergeo": [
           {
            "marker": {
             "colorbar": {
              "outlinewidth": 0,
              "ticks": ""
             }
            },
            "type": "scattergeo"
           }
          ],
          "scattergl": [
           {
            "marker": {
             "colorbar": {
              "outlinewidth": 0,
              "ticks": ""
             }
            },
            "type": "scattergl"
           }
          ],
          "scattermapbox": [
           {
            "marker": {
             "colorbar": {
              "outlinewidth": 0,
              "ticks": ""
             }
            },
            "type": "scattermapbox"
           }
          ],
          "scatterpolar": [
           {
            "marker": {
             "colorbar": {
              "outlinewidth": 0,
              "ticks": ""
             }
            },
            "type": "scatterpolar"
           }
          ],
          "scatterpolargl": [
           {
            "marker": {
             "colorbar": {
              "outlinewidth": 0,
              "ticks": ""
             }
            },
            "type": "scatterpolargl"
           }
          ],
          "scatterternary": [
           {
            "marker": {
             "colorbar": {
              "outlinewidth": 0,
              "ticks": ""
             }
            },
            "type": "scatterternary"
           }
          ],
          "surface": [
           {
            "colorbar": {
             "outlinewidth": 0,
             "ticks": ""
            },
            "colorscale": [
             [
              0,
              "#0d0887"
             ],
             [
              0.1111111111111111,
              "#46039f"
             ],
             [
              0.2222222222222222,
              "#7201a8"
             ],
             [
              0.3333333333333333,
              "#9c179e"
             ],
             [
              0.4444444444444444,
              "#bd3786"
             ],
             [
              0.5555555555555556,
              "#d8576b"
             ],
             [
              0.6666666666666666,
              "#ed7953"
             ],
             [
              0.7777777777777778,
              "#fb9f3a"
             ],
             [
              0.8888888888888888,
              "#fdca26"
             ],
             [
              1,
              "#f0f921"
             ]
            ],
            "type": "surface"
           }
          ],
          "table": [
           {
            "cells": {
             "fill": {
              "color": "#EBF0F8"
             },
             "line": {
              "color": "white"
             }
            },
            "header": {
             "fill": {
              "color": "#C8D4E3"
             },
             "line": {
              "color": "white"
             }
            },
            "type": "table"
           }
          ]
         },
         "layout": {
          "annotationdefaults": {
           "arrowcolor": "#2a3f5f",
           "arrowhead": 0,
           "arrowwidth": 1
          },
          "autotypenumbers": "strict",
          "coloraxis": {
           "colorbar": {
            "outlinewidth": 0,
            "ticks": ""
           }
          },
          "colorscale": {
           "diverging": [
            [
             0,
             "#8e0152"
            ],
            [
             0.1,
             "#c51b7d"
            ],
            [
             0.2,
             "#de77ae"
            ],
            [
             0.3,
             "#f1b6da"
            ],
            [
             0.4,
             "#fde0ef"
            ],
            [
             0.5,
             "#f7f7f7"
            ],
            [
             0.6,
             "#e6f5d0"
            ],
            [
             0.7,
             "#b8e186"
            ],
            [
             0.8,
             "#7fbc41"
            ],
            [
             0.9,
             "#4d9221"
            ],
            [
             1,
             "#276419"
            ]
           ],
           "sequential": [
            [
             0,
             "#0d0887"
            ],
            [
             0.1111111111111111,
             "#46039f"
            ],
            [
             0.2222222222222222,
             "#7201a8"
            ],
            [
             0.3333333333333333,
             "#9c179e"
            ],
            [
             0.4444444444444444,
             "#bd3786"
            ],
            [
             0.5555555555555556,
             "#d8576b"
            ],
            [
             0.6666666666666666,
             "#ed7953"
            ],
            [
             0.7777777777777778,
             "#fb9f3a"
            ],
            [
             0.8888888888888888,
             "#fdca26"
            ],
            [
             1,
             "#f0f921"
            ]
           ],
           "sequentialminus": [
            [
             0,
             "#0d0887"
            ],
            [
             0.1111111111111111,
             "#46039f"
            ],
            [
             0.2222222222222222,
             "#7201a8"
            ],
            [
             0.3333333333333333,
             "#9c179e"
            ],
            [
             0.4444444444444444,
             "#bd3786"
            ],
            [
             0.5555555555555556,
             "#d8576b"
            ],
            [
             0.6666666666666666,
             "#ed7953"
            ],
            [
             0.7777777777777778,
             "#fb9f3a"
            ],
            [
             0.8888888888888888,
             "#fdca26"
            ],
            [
             1,
             "#f0f921"
            ]
           ]
          },
          "colorway": [
           "#636efa",
           "#EF553B",
           "#00cc96",
           "#ab63fa",
           "#FFA15A",
           "#19d3f3",
           "#FF6692",
           "#B6E880",
           "#FF97FF",
           "#FECB52"
          ],
          "font": {
           "color": "#2a3f5f"
          },
          "geo": {
           "bgcolor": "white",
           "lakecolor": "white",
           "landcolor": "#E5ECF6",
           "showlakes": true,
           "showland": true,
           "subunitcolor": "white"
          },
          "hoverlabel": {
           "align": "left"
          },
          "hovermode": "closest",
          "mapbox": {
           "style": "light"
          },
          "paper_bgcolor": "white",
          "plot_bgcolor": "#E5ECF6",
          "polar": {
           "angularaxis": {
            "gridcolor": "white",
            "linecolor": "white",
            "ticks": ""
           },
           "bgcolor": "#E5ECF6",
           "radialaxis": {
            "gridcolor": "white",
            "linecolor": "white",
            "ticks": ""
           }
          },
          "scene": {
           "xaxis": {
            "backgroundcolor": "#E5ECF6",
            "gridcolor": "white",
            "gridwidth": 2,
            "linecolor": "white",
            "showbackground": true,
            "ticks": "",
            "zerolinecolor": "white"
           },
           "yaxis": {
            "backgroundcolor": "#E5ECF6",
            "gridcolor": "white",
            "gridwidth": 2,
            "linecolor": "white",
            "showbackground": true,
            "ticks": "",
            "zerolinecolor": "white"
           },
           "zaxis": {
            "backgroundcolor": "#E5ECF6",
            "gridcolor": "white",
            "gridwidth": 2,
            "linecolor": "white",
            "showbackground": true,
            "ticks": "",
            "zerolinecolor": "white"
           }
          },
          "shapedefaults": {
           "line": {
            "color": "#2a3f5f"
           }
          },
          "ternary": {
           "aaxis": {
            "gridcolor": "white",
            "linecolor": "white",
            "ticks": ""
           },
           "baxis": {
            "gridcolor": "white",
            "linecolor": "white",
            "ticks": ""
           },
           "bgcolor": "#E5ECF6",
           "caxis": {
            "gridcolor": "white",
            "linecolor": "white",
            "ticks": ""
           }
          },
          "title": {
           "x": 0.05
          },
          "xaxis": {
           "automargin": true,
           "gridcolor": "white",
           "linecolor": "white",
           "ticks": "",
           "title": {
            "standoff": 15
           },
           "zerolinecolor": "white",
           "zerolinewidth": 2
          },
          "yaxis": {
           "automargin": true,
           "gridcolor": "white",
           "linecolor": "white",
           "ticks": "",
           "title": {
            "standoff": 15
           },
           "zerolinecolor": "white",
           "zerolinewidth": 2
          }
         }
        },
        "title": {
         "text": "Optimal <span style='color: #5ba300; font-weight: bold;'>Supply</span>, <span style='color: #000000; font-weight: bold;'>Facility</span> and <span style='color: #e6308a; font-weight: bold;'>Demand</span> placements."
        },
        "width": 800
       }
      }
     },
     "metadata": {},
     "output_type": "display_data"
    }
   ],
   "source": [
    "fig = px.scatter_mapbox(unpivoted_df_merged,\n",
    "                        lat =\"Latitude\",\n",
    "                        lon=\"Longitude\",\n",
    "                        color=\"Type\",\n",
    "                        category_orders={'Type':list(unpivoted_df_merged['Type'].unique())},\n",
    "                        color_discrete_sequence=['#5ba300','#000000','#e6308a'],\n",
    "                        zoom=2.3, center=dict(lon=15, lat=56),\n",
    "                        height=600, width=800,\n",
    "                        size=\"marker_size\",\n",
    "                        opacity=0.8,\n",
    "                        color_continuous_scale=px.colors.sequential.Bluered,)\n",
    "fig.update_layout(mapbox_style='light', mapbox_accesstoken=constantsfile.mapbox_access_token)\n",
    "fig.update_layout(title_text=\"Optimal <span style='color: #5ba300; font-weight: bold;'>Supply</span>, <span style='color: #000000; font-weight: bold;'>Facility</span> and <span style='color: #e6308a; font-weight: bold;'>Demand</span> placements.\")\n",
    "fig.update_layout(showlegend=False)\n",
    "fig.show()\n",
    "#fig.write_image(\"optimization_results.png\" , scale=1, engine='kaleido')"
   ]
  }
 ],
 "metadata": {
  "kernelspec": {
   "display_name": "base",
   "language": "python",
   "name": "python3"
  },
  "language_info": {
   "codemirror_mode": {
    "name": "ipython",
    "version": 3
   },
   "file_extension": ".py",
   "mimetype": "text/x-python",
   "name": "python",
   "nbconvert_exporter": "python",
   "pygments_lexer": "ipython3",
   "version": "3.10.8"
  },
  "orig_nbformat": 4
 },
 "nbformat": 4,
 "nbformat_minor": 2
}
